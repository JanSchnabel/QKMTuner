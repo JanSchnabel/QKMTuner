{
 "cells": [
  {
   "cell_type": "markdown",
   "metadata": {},
   "source": [
    "## QKMTuner: A Hyperparameter Optimization Pipeline\n",
    "\n",
    "In the previous section we observed that many hyperparameters are involved when building a quantum kernel method. Let's differentiate between quantum and classical hyperparameters.\n",
    "\n",
    "\"Quantum hyperparameters\":\n",
    "- encoding circuit in general\n",
    "    - num_qubits\n",
    "    - num_layers\n",
    "- feature_range for data preprocessing (or bandwidth)\n",
    "- $k$-RDM and or choice of measurement operator in PQK approach\n",
    "\n",
    "\"Classical hyperparameters\":\n",
    "- QKRR: Regularization parameter $\\alpha$\n",
    "- QSVR: Regularization parameters $C$ and $\\epsilon$\n",
    "- outer_kernel hyperparameters, e.g., $\\gamma$ in gaussian kernel and $\\nu$ in Matérn kernel\n",
    "\n",
    "As in classical ML, finding proper hyperparameters for a ML model for a given dataset is a challenging and in general computationally expensive task. The same transfers to QML. To adress this problem we developed a hyperparameter optimization pipeline for quantum kernel methods (QSVC, QSVR and QKRR) - <b>QKMTuner</b> - which is based on sQUlearn and on Optuna -- a hyperparameter optimization framework. It features an imperative, *define-by-run* style user API and thus it allows for dynamically constructing search spaces for the hyperparameters. In QKMOtuna we particularly use \n",
    "    \n",
    "- sQUlearn's and Optuna's compatibility with scikit-learn\n",
    "- Optuna's efficient state-of-the-art optimization algorithms for sampling hyperparameters\n",
    "- Optunas quick visualization tools\n",
    "\n",
    "An schematic overview of the QKMTuner implemantation and it's functionalities is given in Fig. 6.\n",
    "\n",
    "<center>\n",
    "\n",
    "<img src=\"./schematic.png\" alt=\"QKMTuner\" width=1000>\n",
    "\n",
    "\n",
    "*Figure 6: Schematic illustration of our QKMTuner hyperparameter optimization pipeline*\n",
    "</center>"
   ]
  },
  {
   "cell_type": "markdown",
   "metadata": {},
   "source": [
    "### Find a best quantum kernel model\n",
    "\n",
    "To find the best hyperparameters for a quantum kernel model for a given encoding circuit, QKMTuner provides the evaluate_grid() method, which searches for\n",
    "\n",
    "- optimal num_qubits and num_layers (within given boundaries for the corresponding search space)\n",
    "- for given preprocessing method, optimize configuration settings (i.e., e.g., feature_range) for rescaling features\n",
    "- optimal kernel algorithm hyperparameters (e.g., $C$ and $\\epsilon$ for QSVR)\n",
    "- optimal kernel hyperparameters (e.g., $\\gamma$ for gaussian kernel)\n",
    "\n",
    "#### Imports and data loading"
   ]
  },
  {
   "cell_type": "code",
   "execution_count": 2,
   "metadata": {},
   "outputs": [],
   "source": [
    "import os\n",
    "import sys\n",
    "import joblib\n",
    "import pandas as pd\n",
    "\n",
    "from sklearn.model_selection import train_test_split\n",
    "from sklearn.preprocessing import MinMaxScaler\n",
    "from optuna.samplers import TPESampler\n",
    "\n",
    "# necessary sQUlearn imports\n",
    "from squlearn import Executor\n",
    "from squlearn.encoding_circuit import YZ_CX_EncodingCircuit\n",
    "\n",
    "sys.path.append(\"./../src/\")\n",
    "from qkm_tuner import QKMTuner"
   ]
  },
  {
   "cell_type": "code",
   "execution_count": 3,
   "metadata": {},
   "outputs": [],
   "source": [
    "file_friedman = os.path.join(\"./\", \"make_friedman1_dataset_num_features5.csv\")\n",
    "\n",
    "df = pd.read_csv(file_friedman)\n",
    "x = df.iloc[:,:-1].to_numpy()\n",
    "y = df.iloc[:,-1].to_numpy()\n",
    "\n",
    "# split into training and test data\n",
    "xtrain, xtest, ytrain, ytest = train_test_split(\n",
    "    x,\n",
    "    y,\n",
    "    test_size=0.2,\n",
    "    random_state=42\n",
    ")"
   ]
  },
  {
   "cell_type": "markdown",
   "metadata": {},
   "source": [
    "#### How to set up the method\n",
    "\n",
    "Within this simulation we use sQUlearn's default PQK within a QSVR. For the sake of demonstration purposes we restrict ourselves to only evaluating the best model for the YZ_CX_EncodingCircuit. The following hyperparameters are optimized:\n",
    "\n",
    "- min_range and max_range defining the feature_range in MinMaxScaler(feature_range=(min_range, max_range)) used for feature rescaling as well as therein we should use clip=True/False\n",
    "- num_qubits of YZ_CX_EncodingCircuit\n",
    "- num_layers of YZ_CX_EncodingCircuit\n",
    "- gamma of outer_kernel=\"gaussian\"\n",
    "- epsilon and C, i.e. the QSVR regularization parameters\n",
    "\n",
    "Futher one can specify:\n",
    "\n",
    "- the boundaries of Optuna's hyperparameter search space (num_qubits_max and num_layers_max), \n",
    "- use different specifications of the PQKs (measurement and outer_kernel)\n",
    "- optuna_sampler and optuna_pruner"
   ]
  },
  {
   "cell_type": "code",
   "execution_count": 4,
   "metadata": {},
   "outputs": [
    {
     "name": "stderr",
     "output_type": "stream",
     "text": [
      "c:\\Users\\jsl\\Documents\\Code\\GitHubProjects\\QKMTuner\\demo\\./../src\\qkm_tuner.py:170: UserWarning: Optuna does not support saving/reloading across different Optuna versions with pickle.\n",
      "            Thus, make sure to pip install the same versions or consider using RDBs to \n",
      "            save/reload a study accross different Optuna versions, cf.\n",
      "            https://optuna.readthedocs.io/en/stable/tutorial/20_recipes/001_rdb.html#rdb\n",
      "  warnings.warn(\n",
      "[I 2024-09-06 14:12:26,071] A new study created in memory with name: optuna_study_evaluate_best_model_QKRR_PQK_YZ_CX_EncodingCircuit_friedman_num_features5\n",
      "[I 2024-09-06 14:12:44,834] Trial 0 finished with value: -99.40174397464125 and parameters: {'num_qubits': 10, 'num_layers': 4, 'min_range': -0.6239778297350675, 'max_range': 0.8559005023838371, 'alpha': 1.2129910377408882e-05, 'gamma': 7.505241622349544}. Best is trial 0 with value: -99.40174397464125.\n"
     ]
    }
   ],
   "source": [
    "# Define QKMTuner instance\n",
    "qkm_tuner_inst = QKMTuner(\n",
    "    xtrain=xtrain,\n",
    "    xtest=xtest,\n",
    "    ytrain=ytrain,\n",
    "    ytest=ytest,\n",
    "    scaler_method=MinMaxScaler(),\n",
    "    optimize_scaler=True,\n",
    "    label_scaler=MinMaxScaler(),\n",
    "    quantum_kernel=\"PQK\",\n",
    "    quantum_kernel_method=\"QKRR\",\n",
    "    executor=Executor(\"pennylane\"),\n",
    "    parameter_seed=0\n",
    ")\n",
    "\n",
    "\n",
    "# Define encoding circuits for which one wants to compute the best models\n",
    "encoding_circuits = [YZ_CX_EncodingCircuit]\n",
    "\n",
    "# Call QKMTuner's evalate_best_model() method and define parameters as desired\n",
    "qkm_tuner_inst.evaluate_best_model(\n",
    "    encoding_circuits=encoding_circuits,\n",
    "    measurement = \"XYZ\",\n",
    "    outer_kernel = \"gaussian\",\n",
    "    num_qubits_max = 10,\n",
    "    num_layers_max = 8,\n",
    "    optuna_sampler = TPESampler(seed=0),\n",
    "    optuna_pruner = None, \n",
    "    n_trials = 1, # one has to define more, of course\n",
    "    outdir = './results_demo_evaluate_best_model/',\n",
    "    file_identifier = 'friedman_num_features5'\n",
    ")"
   ]
  },
  {
   "cell_type": "markdown",
   "metadata": {},
   "source": [
    "The evaluate_best_model() method of QKMTuner automatically saves the following intermediate and final simulation results:\n",
    "\n",
    "- For each EncodingCircuit in the list of encoding_circuits, we save the optuna study object to a *.pkl-file\n",
    "- For each EncodingCircuit in the list of encoding_circuits, the optimal circuits out of the optuna study is saved to a *.pkl-file\n",
    "- The final summary is saved as *.csv file, which contains, for each EncodingCircuit:\n",
    "    \n",
    "    - best_params (i.e. num_qubits, num_layers, etc.) determined within optuna optimization\n",
    "    - best_trial (optuna object to resume study)\n",
    "    - best_obj_val\n",
    "    - best_feature_range\n",
    "    - ktrain\n",
    "    - ktesttrain\n",
    "    - ypred_train\n",
    "    - ypred_test\n",
    "    - mse_train\n",
    "    - rmse_train\n",
    "    - mae_train\n",
    "    - r2_train\n",
    "    - mse_test\n",
    "    - rmse_test\n",
    "    - mae_test \n",
    "    - r2_test\n",
    "\n",
    "For classifications tasks we use accuracy_score, roc_auc_score and f1_score instead."
   ]
  },
  {
   "cell_type": "markdown",
   "metadata": {},
   "source": [
    "This is managed within two directories, which were also created by the previous simulation. Take a closer look into their content"
   ]
  },
  {
   "cell_type": "code",
   "execution_count": 5,
   "metadata": {},
   "outputs": [
    {
     "name": "stdout",
     "output_type": "stream",
     "text": [
      "'/cache_optuna_studies_evaluate_best_model/' contains:  ['optimal_circuit_from_optuna_study_evaluate_best_model_QKRR_PQK_YZ_CX_EncodingCircuit_friedman_num_features5.pkl', 'optuna_study_evaluate_best_model_QKRR_PQK_YZ_CX_EncodingCircuit_friedman_num_features5.pkl']\n",
      "'/results_evaluate_best_model/' contains:  ['results_evaluate_best_model_study_friedman_num_features5_QKRR_PQK_summary.pkl', 'results_evaluate_best_model_study_friedman_num_features5_QKRR_PQK_YZ_CX_EncodingCircuit.pkl']\n"
     ]
    }
   ],
   "source": [
    "print(\"'/cache_optuna_studies_evaluate_best_model/' contains: \", os.listdir(\"./results_demo_evaluate_best_model/cache_optuna_studies_evaluate_best_model\") )\n",
    "print(\"'/results_evaluate_best_model/' contains: \", os.listdir(\"results_demo_evaluate_best_model/results_evaluate_best_model/\"))"
   ]
  },
  {
   "cell_type": "markdown",
   "metadata": {},
   "source": [
    "This means .pkl-files are created in a cache directory containing the optimal encoding circuit as well as the complete optuna study itself from which the best model configurations can be extracted. Moreover the optuna study pickle can be used to resume the study and start a new study from there. \n",
    "\n",
    "#### Anaylzing the results\n",
    "\n",
    "We can investigate the importance of hyperparameters by loading the *.pkl-file containing the corresponding Optuna study object and subsequently use Optuna's visualization tools.\n",
    "\n",
    "Recall that within this simulation we optimized the following hyperparameters:\n",
    "\n",
    "- min_range and max_range defining the feature_range in MinMaxScaler(feature_range=(min_range, max_range)) used for feature rescaling as well as therein we should use clip=True/False\n",
    "- num_qubits of YZ_CX_EncodingCircuit\n",
    "- num_layers of YZ_CX_EncodingCircuit\n",
    "- gamma of outer_kernel=\"gaussian\"\n",
    "- epsilon and C, i.e. the QSVR regularization parameters"
   ]
  },
  {
   "cell_type": "code",
   "execution_count": 6,
   "metadata": {},
   "outputs": [],
   "source": [
    "file_study = \"./results_demo_evaluate_best_model/cache_optuna_studies_evaluate_best_model/optuna_study_evaluate_best_model_QKRR_PQK_YZ_CX_EncodingCircuit_friedman_num_features5.pkl\"\n",
    "study = joblib.load(file_study)"
   ]
  },
  {
   "cell_type": "code",
   "execution_count": 8,
   "metadata": {},
   "outputs": [
    {
     "data": {
      "text/plain": [
       "'\\nVisualize hyperparameter importances. Apparently, this only works for n_trials > 1\\n'"
      ]
     },
     "execution_count": 8,
     "metadata": {},
     "output_type": "execute_result"
    }
   ],
   "source": [
    "\"\"\"\n",
    "Visualize hyperparameter importances. Apparently, this only works for n_trials > 1\n",
    "\"\"\"\n",
    "#from optuna.visualization import plot_param_importances\n",
    "#plot_param_importances(study)"
   ]
  },
  {
   "cell_type": "markdown",
   "metadata": {},
   "source": [
    "For the sake of generating a large database of quantum kernel experiments, all final results are saved as *.pkl file."
   ]
  },
  {
   "cell_type": "code",
   "execution_count": 9,
   "metadata": {},
   "outputs": [
    {
     "data": {
      "text/html": [
       "<div>\n",
       "<style scoped>\n",
       "    .dataframe tbody tr th:only-of-type {\n",
       "        vertical-align: middle;\n",
       "    }\n",
       "\n",
       "    .dataframe tbody tr th {\n",
       "        vertical-align: top;\n",
       "    }\n",
       "\n",
       "    .dataframe thead th {\n",
       "        text-align: right;\n",
       "    }\n",
       "</style>\n",
       "<table border=\"1\" class=\"dataframe\">\n",
       "  <thead>\n",
       "    <tr style=\"text-align: right;\">\n",
       "      <th></th>\n",
       "      <th>best_params</th>\n",
       "      <th>best_trial</th>\n",
       "      <th>best_obj_val</th>\n",
       "      <th>best_feature_range</th>\n",
       "      <th>ktrain</th>\n",
       "      <th>ktesttrain</th>\n",
       "      <th>ypred_train</th>\n",
       "      <th>ypred_test</th>\n",
       "      <th>mse_train</th>\n",
       "      <th>rmse_train</th>\n",
       "      <th>mae_train</th>\n",
       "      <th>r2_train</th>\n",
       "      <th>mse_test</th>\n",
       "      <th>rmse_test</th>\n",
       "      <th>mae_test</th>\n",
       "      <th>r2_test</th>\n",
       "    </tr>\n",
       "  </thead>\n",
       "  <tbody>\n",
       "    <tr>\n",
       "      <th>YZ_CX_EncodingCircuit</th>\n",
       "      <td>{'num_qubits': 10, 'num_layers': 4, 'min_range...</td>\n",
       "      <td>FrozenTrial(number=0, state=TrialState.COMPLET...</td>\n",
       "      <td>-99.401744</td>\n",
       "      <td>(-0.6239778297350675, 0.8559005023838371)</td>\n",
       "      <td>[[1.0, 1.197097162078793e-07, 0.00030380654500...</td>\n",
       "      <td>[[1.050376185762618e-08, 2.6310618894618183e-0...</td>\n",
       "      <td>[0.4180767742051808, 0.618264002151646, 0.3605...</td>\n",
       "      <td>[0.22387087462243443, 0.1233089725828915, 0.02...</td>\n",
       "      <td>2.664620e-11</td>\n",
       "      <td>0.000005</td>\n",
       "      <td>0.000005</td>\n",
       "      <td>1.0</td>\n",
       "      <td>0.184601</td>\n",
       "      <td>0.429652</td>\n",
       "      <td>0.394143</td>\n",
       "      <td>-2.901853</td>\n",
       "    </tr>\n",
       "  </tbody>\n",
       "</table>\n",
       "</div>"
      ],
      "text/plain": [
       "                                                             best_params  \\\n",
       "YZ_CX_EncodingCircuit  {'num_qubits': 10, 'num_layers': 4, 'min_range...   \n",
       "\n",
       "                                                              best_trial  \\\n",
       "YZ_CX_EncodingCircuit  FrozenTrial(number=0, state=TrialState.COMPLET...   \n",
       "\n",
       "                       best_obj_val  \\\n",
       "YZ_CX_EncodingCircuit    -99.401744   \n",
       "\n",
       "                                              best_feature_range  \\\n",
       "YZ_CX_EncodingCircuit  (-0.6239778297350675, 0.8559005023838371)   \n",
       "\n",
       "                                                                  ktrain  \\\n",
       "YZ_CX_EncodingCircuit  [[1.0, 1.197097162078793e-07, 0.00030380654500...   \n",
       "\n",
       "                                                              ktesttrain  \\\n",
       "YZ_CX_EncodingCircuit  [[1.050376185762618e-08, 2.6310618894618183e-0...   \n",
       "\n",
       "                                                             ypred_train  \\\n",
       "YZ_CX_EncodingCircuit  [0.4180767742051808, 0.618264002151646, 0.3605...   \n",
       "\n",
       "                                                              ypred_test  \\\n",
       "YZ_CX_EncodingCircuit  [0.22387087462243443, 0.1233089725828915, 0.02...   \n",
       "\n",
       "                          mse_train  rmse_train  mae_train  r2_train  \\\n",
       "YZ_CX_EncodingCircuit  2.664620e-11    0.000005   0.000005       1.0   \n",
       "\n",
       "                       mse_test  rmse_test  mae_test   r2_test  \n",
       "YZ_CX_EncodingCircuit  0.184601   0.429652  0.394143 -2.901853  "
      ]
     },
     "execution_count": 9,
     "metadata": {},
     "output_type": "execute_result"
    }
   ],
   "source": [
    "df = pd.read_pickle(\"./results_demo_evaluate_best_model/results_evaluate_best_model/results_evaluate_best_model_study_friedman_num_features5_QKRR_PQK_YZ_CX_EncodingCircuit.pkl\")\n",
    "df"
   ]
  },
  {
   "cell_type": "markdown",
   "metadata": {},
   "source": [
    "### Hyperparameter optimization within grid search\n",
    "\n",
    "In order to systematically analyze and compare quantum kernel methods as well as providing general design advices, ideally an extensive quantum kernel study is required, which considers many different datasets and different encoding circuits. To this end, QKMTuner provides the evaluate_grid() method, which \n",
    "\n",
    "- for each circuit within a list of encoding_circuits sets up a predefined grid to consider different num_qubits and num_layer configurations and for each configuration performs a hyperparameter search to determine\n",
    "\n",
    "    - hyperparameters of the quantum kernel method \n",
    "    - hyperparameters of PQKs (e.g. $\\gamma$ for gaussian kernel)\n",
    "    - for given feature preprocessing routine (e.g. MinMaxScaler) optimize it's configuration (i.e., e.g. feature_range)"
   ]
  },
  {
   "cell_type": "markdown",
   "metadata": {},
   "source": [
    "The evaluate_grid() method automatically saves the followig intermediate and final results:\n",
    "\n",
    "- Optuna study object as *.pkl file for each encoding circuit and each (num_qubits, num_layers)-configuration\n",
    "- Best trial optuna object as *.pkl file for each encoding circuit within given (num_qubits, num_layers)-grid corresponding to setting with highest R2-score on test data\n",
    "- Accordingly, corresponding EncodingCircuit sQUlearn object as *.pkl-file\n",
    "- Kernel matrices for each encoding circuit and each (num_qubits, num_layers)-configuration after optuna optimization in a *csv-file\n",
    "- A final summary is saved as *.csv file, which contains, for each EncodingCircuit:\n",
    "\n",
    "    - best_param_mat\n",
    "    - best_trial_mat\n",
    "    - best_objective_value_mat\n",
    "    - feature_range_mat\n",
    "    - mse_train_mat \n",
    "    - rmse_train_mat\n",
    "    - mae_train_mat\n",
    "    - r2_train_mat\n",
    "    - mse_test_mat\n",
    "    - rmse_test_mat\n",
    "    - mae_test_mat\n",
    "    - r2_test_mat\n",
    "\n",
    "For classifications tasks we use accuracy_score, roc_auc_score and f1_score instead\n",
    "\n",
    "To use the evaluate_grid() method of the QKMTuner pipeline, we just provide the corresponding code but, for the sake of runtime, do not execute it. We would rather like to show how to use and analyze the generated results."
   ]
  },
  {
   "cell_type": "markdown",
   "metadata": {},
   "source": [
    "##### Imports and data loading"
   ]
  },
  {
   "cell_type": "code",
   "execution_count": 11,
   "metadata": {},
   "outputs": [],
   "source": [
    "import numpy as np\n",
    "import pandas as pd\n",
    "\n",
    "from sklearn.model_selection import train_test_split\n",
    "from sklearn.preprocessing import MinMaxScaler\n",
    "\n",
    "from squlearn import Executor\n",
    "from squlearn.encoding_circuit import YZ_CX_EncodingCircuit"
   ]
  },
  {
   "cell_type": "markdown",
   "metadata": {},
   "source": [
    "For the sake of demonstration purposes, in the following we restrict ourselves to the YZ_CX_EncodingCircuit only. So does the following code snippet, which is given for FQK.\n",
    "\n",
    "First we load the data"
   ]
  },
  {
   "cell_type": "code",
   "execution_count": 12,
   "metadata": {},
   "outputs": [],
   "source": [
    "# again, load the friedman dataset\n",
    "file_friedman = os.path.join(\"./\", \"make_friedman1_dataset_num_features5.csv\")\n",
    "\n",
    "df = pd.read_csv(file_friedman)\n",
    "x = df.iloc[:,:-1].to_numpy()\n",
    "y = df.iloc[:,-1].to_numpy()\n",
    "\n",
    "# split into training and test data\n",
    "xtrain, xtest, ytrain, ytest = train_test_split(\n",
    "    x,\n",
    "    y,\n",
    "    test_size=0.2,\n",
    "    random_state=42\n",
    ")"
   ]
  },
  {
   "cell_type": "markdown",
   "metadata": {},
   "source": [
    "##### How to set up the method"
   ]
  },
  {
   "cell_type": "markdown",
   "metadata": {},
   "source": [
    "QKMTuner is initilized such that \n",
    "\n",
    "- a given feature preprocessing is used and no optimization of the scaler is performed\n",
    "- we further rescale the labels using MinMaxScaler()\n",
    "\n",
    "Here one can also use different scalers for both features and labels and can additionally optimize the respective feature preproccesing method. Moreover, one can change the quantum_kernel and quantum_kernel_method parameters.\n",
    "\n",
    "To finally call the evaluate_grid() method one has to specify the encoding_circuits upon which one builds a grid. This grid is defined by the layer_list and qubit list arguments. Beyond that, QKMTuner allows for different PQK settings (i.e. differemt measurement and outer_kernel attributes).\n",
    "\n",
    "For FQKs one merely has to change the quantum_kernel parameter in the code example below."
   ]
  },
  {
   "cell_type": "code",
   "execution_count": 13,
   "metadata": {},
   "outputs": [
    {
     "name": "stderr",
     "output_type": "stream",
     "text": [
      "c:\\Users\\jsl\\Documents\\Code\\GitHubProjects\\QKMTuner\\demo\\./../src\\qkm_tuner.py:170: UserWarning: Optuna does not support saving/reloading across different Optuna versions with pickle.\n",
      "            Thus, make sure to pip install the same versions or consider using RDBs to \n",
      "            save/reload a study accross different Optuna versions, cf.\n",
      "            https://optuna.readthedocs.io/en/stable/tutorial/20_recipes/001_rdb.html#rdb\n",
      "  warnings.warn(\n",
      "[I 2024-09-06 14:26:14,326] A new study created in memory with name: optuna_study_evaluate_grid_QKRR_PQK_YZ_CX_EncodingCircuit_num_qubits5_num_layers1_friedman_num_features5_grid\n",
      "[I 2024-09-06 14:26:15,183] Trial 0 finished with value: -8.073707242448101 and parameters: {'min_range': -0.7087220907304183, 'max_range': 1.123416829660566, 'alpha': 0.0017106474441850336, 'gamma': 1.8590843630169627}. Best is trial 0 with value: -8.073707242448101.\n",
      "[I 2024-09-06 14:26:16,181] Trial 1 finished with value: -140.84854803747305 and parameters: {'min_range': -0.9053209241643161, 'max_range': 1.014568100303551, 'alpha': 1.7825697616116485e-05, 'gamma': 224.2012371372442}. Best is trial 0 with value: -8.073707242448101.\n",
      "[I 2024-09-06 14:26:16,415] A new study created in memory with name: optuna_study_evaluate_grid_QKRR_PQK_YZ_CX_EncodingCircuit_num_qubits5_num_layers2_friedman_num_features5_grid\n",
      "[I 2024-09-06 14:26:18,204] Trial 0 finished with value: -10.916303245171914 and parameters: {'min_range': -0.05707840233084971, 'max_range': 0.6023085293121878, 'alpha': 0.3167382092361415, 'gamma': 1.490628836610164}. Best is trial 0 with value: -10.916303245171914.\n",
      "[I 2024-09-06 14:26:20,115] Trial 1 finished with value: -15.585107333826945 and parameters: {'min_range': -0.6785140167727285, 'max_range': 1.4539237995238163, 'alpha': 7.119224664494238e-10, 'gamma': 0.003332543279005117}. Best is trial 0 with value: -10.916303245171914.\n"
     ]
    }
   ],
   "source": [
    "# Define QKMTuner instance\n",
    "qkm_tuner_inst = QKMTuner(\n",
    "    xtrain=xtrain,\n",
    "    xtest=xtest,\n",
    "    ytrain=ytrain,\n",
    "    ytest=ytest,\n",
    "    scaler_method=MinMaxScaler(),\n",
    "    optimize_scaler=True,\n",
    "    label_scaler=MinMaxScaler(),\n",
    "    quantum_kernel=\"PQK\",\n",
    "    quantum_kernel_method=\"QKRR\",\n",
    "    executor=Executor(\"pennylane\"),\n",
    "    parameter_seed=0\n",
    ")\n",
    "\n",
    "# Define the grid search ranges\n",
    "encoding_circuits = [YZ_CX_EncodingCircuit]\n",
    "layer_list = [1,2]\n",
    "qubit_list = [5]\n",
    "# set up the evaluate_grid() method\n",
    "qkm_tuner_inst.evaluate_grid(\n",
    "    encoding_circuits=encoding_circuits,\n",
    "    measurement=\"XYZ\",\n",
    "    outer_kernel=\"gaussian\",\n",
    "    qubits_list=qubit_list,\n",
    "    layers_list=layer_list,\n",
    "    optuna_sampler=TPESampler(seed=0),\n",
    "    n_trials=2, # need to specify more -> 100 = default\n",
    "    outdir=\"./results_grid/\",\n",
    "    file_identifier=\"friedman_num_features5_grid\"\n",
    ")"
   ]
  },
  {
   "cell_type": "markdown",
   "metadata": {},
   "source": [
    " The evalute_grid() method of QKMTuner automatically saves many intermediate as well as final simulation results. This is useful for various post-processing analyses as well as for subsequent studies. Moreover, saving Optuna study objects allows to resume a study. The following shows the format of final simulation results and how to further process and analyze them."
   ]
  },
  {
   "cell_type": "code",
   "execution_count": 14,
   "metadata": {},
   "outputs": [
    {
     "data": {
      "text/html": [
       "<div>\n",
       "<style scoped>\n",
       "    .dataframe tbody tr th:only-of-type {\n",
       "        vertical-align: middle;\n",
       "    }\n",
       "\n",
       "    .dataframe tbody tr th {\n",
       "        vertical-align: top;\n",
       "    }\n",
       "\n",
       "    .dataframe thead th {\n",
       "        text-align: right;\n",
       "    }\n",
       "</style>\n",
       "<table border=\"1\" class=\"dataframe\">\n",
       "  <thead>\n",
       "    <tr style=\"text-align: right;\">\n",
       "      <th></th>\n",
       "      <th>best_param_mat</th>\n",
       "      <th>best_trial_mat</th>\n",
       "      <th>best_objective_value_mat</th>\n",
       "      <th>feature_range_mat</th>\n",
       "      <th>mse_train_mat</th>\n",
       "      <th>rmse_train_mat</th>\n",
       "      <th>mae_train_mat</th>\n",
       "      <th>r2_train_mat</th>\n",
       "      <th>mse_test_mat</th>\n",
       "      <th>rmse_test_mat</th>\n",
       "      <th>mae_test_mat</th>\n",
       "      <th>r2_test_mat</th>\n",
       "    </tr>\n",
       "  </thead>\n",
       "  <tbody>\n",
       "    <tr>\n",
       "      <th>YZ_CX_EncodingCircuit</th>\n",
       "      <td>[[{'min_range': -0.7087220907304183, 'max_rang...</td>\n",
       "      <td>[[FrozenTrial(number=0, state=TrialState.COMPL...</td>\n",
       "      <td>[[-8.073707242448101, -10.916303245171914]]</td>\n",
       "      <td>[[(-0.7087220907304183, 1.123416829660566), (-...</td>\n",
       "      <td>[[3.150145156551879e-05, 0.015110023147217985]]</td>\n",
       "      <td>[[0.005612615394405606, 0.12292283411644064]]</td>\n",
       "      <td>[[0.003787573159020415, 0.0982739360758632]]</td>\n",
       "      <td>[[0.9993538211514481, 0.6900530968055647]]</td>\n",
       "      <td>[[0.01156683946464205, 0.017197051324471826]]</td>\n",
       "      <td>[[0.10754924204587427, 0.13113752828413316]]</td>\n",
       "      <td>[[0.07963710725459643, 0.10164948422741427]]</td>\n",
       "      <td>[[0.7555154474994237, 0.6365114766012664]]</td>\n",
       "    </tr>\n",
       "  </tbody>\n",
       "</table>\n",
       "</div>"
      ],
      "text/plain": [
       "                                                          best_param_mat  \\\n",
       "YZ_CX_EncodingCircuit  [[{'min_range': -0.7087220907304183, 'max_rang...   \n",
       "\n",
       "                                                          best_trial_mat  \\\n",
       "YZ_CX_EncodingCircuit  [[FrozenTrial(number=0, state=TrialState.COMPL...   \n",
       "\n",
       "                                          best_objective_value_mat  \\\n",
       "YZ_CX_EncodingCircuit  [[-8.073707242448101, -10.916303245171914]]   \n",
       "\n",
       "                                                       feature_range_mat  \\\n",
       "YZ_CX_EncodingCircuit  [[(-0.7087220907304183, 1.123416829660566), (-...   \n",
       "\n",
       "                                                         mse_train_mat  \\\n",
       "YZ_CX_EncodingCircuit  [[3.150145156551879e-05, 0.015110023147217985]]   \n",
       "\n",
       "                                                      rmse_train_mat  \\\n",
       "YZ_CX_EncodingCircuit  [[0.005612615394405606, 0.12292283411644064]]   \n",
       "\n",
       "                                                      mae_train_mat  \\\n",
       "YZ_CX_EncodingCircuit  [[0.003787573159020415, 0.0982739360758632]]   \n",
       "\n",
       "                                                     r2_train_mat  \\\n",
       "YZ_CX_EncodingCircuit  [[0.9993538211514481, 0.6900530968055647]]   \n",
       "\n",
       "                                                        mse_test_mat  \\\n",
       "YZ_CX_EncodingCircuit  [[0.01156683946464205, 0.017197051324471826]]   \n",
       "\n",
       "                                                      rmse_test_mat  \\\n",
       "YZ_CX_EncodingCircuit  [[0.10754924204587427, 0.13113752828413316]]   \n",
       "\n",
       "                                                       mae_test_mat  \\\n",
       "YZ_CX_EncodingCircuit  [[0.07963710725459643, 0.10164948422741427]]   \n",
       "\n",
       "                                                      r2_test_mat  \n",
       "YZ_CX_EncodingCircuit  [[0.7555154474994237, 0.6365114766012664]]  "
      ]
     },
     "execution_count": 14,
     "metadata": {},
     "output_type": "execute_result"
    }
   ],
   "source": [
    "\n",
    "df_qkrr_pqk = pd.read_pickle(\"results_grid/results_evaluate_grid/results_evaluate_grid_study_friedman_num_features5_grid_QKRR_PQK_YZ_CX_EncodingCircuit.pkl\")\n",
    "df_qkrr_pqk"
   ]
  },
  {
   "cell_type": "markdown",
   "metadata": {},
   "source": [
    "### Comments\n",
    "\n",
    "At this, let us remark that QKMTuner also alows for performing KTA within the pipeline using any or only the optimal cached result.\n",
    "\n",
    "Moreover we note, that in this demonstrator we did not make full use of the QKMTuner pipeline's full functionality. As such, the following is missing:\n",
    "\n",
    "- Investigation and optimization of preprocessing routines (MinMaxScaler(), MaxAbsScaler(), StandardScaler(), RobustScaler(), PowerTransformer() and Bandwidth-Scaling implemented)\n",
    "- Systematic comparison of QSVR vs. QKRR\n",
    "- Application to classification problems (QSVC implemented)\n",
    "- Use of more encoding circuits to enlarge data foundation and improve statistics\n",
    "- shot-based simulations"
   ]
  }
 ],
 "metadata": {
  "kernelspec": {
   "display_name": ".venv",
   "language": "python",
   "name": "python3"
  },
  "language_info": {
   "codemirror_mode": {
    "name": "ipython",
    "version": 3
   },
   "file_extension": ".py",
   "mimetype": "text/x-python",
   "name": "python",
   "nbconvert_exporter": "python",
   "pygments_lexer": "ipython3",
   "version": "3.10.11"
  }
 },
 "nbformat": 4,
 "nbformat_minor": 2
}
