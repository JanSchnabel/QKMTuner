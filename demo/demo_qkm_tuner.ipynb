{
 "cells": [
  {
   "cell_type": "markdown",
   "metadata": {},
   "source": [
    "## QKMTuner: A Hyperparameter Optimization Pipeline\n",
    "\n",
    "In the previous section we observed that many hyperparameters are involved when building a quantum kernel method. Let's differentiate between quantum and classical hyperparameters.\n",
    "\n",
    "\"Quantum hyperparameters\":\n",
    "- encoding circuit in general\n",
    "    - num_qubits\n",
    "    - num_layers\n",
    "- feature_range for data preprocessing (or bandwidth)\n",
    "- $k$-RDM and or choice of measurement operator in PQK approach\n",
    "\n",
    "\"Classical hyperparameters\":\n",
    "- QKRR: Regularization parameter $\\alpha$\n",
    "- QSVR: Regularization parameters $C$ and $\\epsilon$\n",
    "- outer_kernel hyperparameters, e.g., $\\gamma$ in gaussian kernel and $\\nu$ in Matérn kernel\n",
    "\n",
    "As in classical ML, finding proper hyperparameters for a ML model for a given dataset is a challenging and in general computationally expensive task. The same transfers to QML. To adress this problem we developed a hyperparameter optimization pipeline for quantum kernel methods (QSVC, QSVR and QKRR) - <b>QKMOptuna</b> - which is based on sQUlearn and on Optuna -- a hyperparameter optimization framework. It features an imperative, *define-by-run* style user API and thus it allows for dynamically constructing search spaces for the hyperparameters. In QKMOtuna we particularly use \n",
    "    \n",
    "- sQUlearn's and Optuna's compatibility with scikit-learn\n",
    "- Optuna's efficient state-of-the-art optimization algorithms for sampling hyperparameters\n",
    "- Optunas quick visualization tools\n",
    "\n",
    "An schematic overview of the QKMOptuna implemantation and it's functionalities is given in Fig. 6.\n",
    "\n",
    "<center>\n",
    "\n",
    "<img src=\"./schematic.png\" alt=\"QKMTuner\" width=1000>\n",
    "\n",
    "\n",
    "*Figure 6: Schematic illustration of our QKMTuner hyperparameter optimization pipeline*\n",
    "</center>"
   ]
  },
  {
   "cell_type": "markdown",
   "metadata": {},
   "source": [
    "### Find a best quantum kernel model\n",
    "\n",
    "To find the best hyperparameters for a quantum kernel model for a given encoding circuit, QKMOptuna provides the evaluate_grid() method, which searches for\n",
    "\n",
    "- optimal num_qubits and num_layers (within given boundaries for the corresponding search space)\n",
    "- for given preprocessing method, optimize configuration settings (i.e., e.g., feature_range) for rescaling features\n",
    "- optimal kernel algorithm hyperparameters (e.g., $C$ and $\\epsilon$ for QSVR)\n",
    "- optimal kernel hyperparameters (e.g., $\\gamma$ for gaussian kernel)\n",
    "\n",
    "#### Imports and data loading"
   ]
  },
  {
   "cell_type": "code",
   "execution_count": 1,
   "metadata": {},
   "outputs": [
    {
     "name": "stderr",
     "output_type": "stream",
     "text": [
      "c:\\Users\\jsl\\Documents\\Code\\GitHubProjects\\QKMTuner\\.venv\\lib\\site-packages\\tqdm\\auto.py:21: TqdmWarning: IProgress not found. Please update jupyter and ipywidgets. See https://ipywidgets.readthedocs.io/en/stable/user_install.html\n",
      "  from .autonotebook import tqdm as notebook_tqdm\n"
     ]
    },
    {
     "ename": "ImportError",
     "evalue": "attempted relative import with no known parent package",
     "output_type": "error",
     "traceback": [
      "\u001b[1;31m---------------------------------------------------------------------------\u001b[0m",
      "\u001b[1;31mImportError\u001b[0m                               Traceback (most recent call last)",
      "Cell \u001b[1;32mIn[1], line 11\u001b[0m\n\u001b[0;32m      8\u001b[0m \u001b[38;5;28;01mfrom\u001b[39;00m \u001b[38;5;21;01moptuna\u001b[39;00m\u001b[38;5;21;01m.\u001b[39;00m\u001b[38;5;21;01msamplers\u001b[39;00m \u001b[38;5;28;01mimport\u001b[39;00m TPESampler\n\u001b[0;32m     10\u001b[0m sys\u001b[38;5;241m.\u001b[39mpath\u001b[38;5;241m.\u001b[39mappend(\u001b[38;5;124m\"\u001b[39m\u001b[38;5;124m./../src/\u001b[39m\u001b[38;5;124m\"\u001b[39m)\n\u001b[1;32m---> 11\u001b[0m \u001b[38;5;28;01mfrom\u001b[39;00m \u001b[38;5;21;01mqkm_tuner\u001b[39;00m \u001b[38;5;28;01mimport\u001b[39;00m QKMTuner\n",
      "File \u001b[1;32mc:\\Users\\jsl\\Documents\\Code\\GitHubProjects\\QKMTuner\\demo\\./../src\\qkm_tuner.py:47\u001b[0m\n\u001b[0;32m     44\u001b[0m \u001b[38;5;28;01mfrom\u001b[39;00m \u001b[38;5;21;01msqulearn\u001b[39;00m\u001b[38;5;21;01m.\u001b[39;00m\u001b[38;5;21;01mkernel\u001b[39;00m\u001b[38;5;21;01m.\u001b[39;00m\u001b[38;5;21;01moptimization\u001b[39;00m \u001b[38;5;28;01mimport\u001b[39;00m KernelOptimizer, TargetAlignment\n\u001b[0;32m     45\u001b[0m \u001b[38;5;28;01mfrom\u001b[39;00m \u001b[38;5;21;01msqulearn\u001b[39;00m\u001b[38;5;21;01m.\u001b[39;00m\u001b[38;5;21;01moptimizers\u001b[39;00m\u001b[38;5;21;01m.\u001b[39;00m\u001b[38;5;21;01moptimizer_base\u001b[39;00m \u001b[38;5;28;01mimport\u001b[39;00m OptimizerBase\n\u001b[1;32m---> 47\u001b[0m \u001b[38;5;28;01mfrom\u001b[39;00m \u001b[38;5;21;01m.\u001b[39;00m\u001b[38;5;21;01mutils\u001b[39;00m\u001b[38;5;21;01m.\u001b[39;00m\u001b[38;5;21;01mscalers\u001b[39;00m \u001b[38;5;28;01mimport\u001b[39;00m BandwidthScaler, LabelMinMaxScaler, CustomLabelMinMaxScaler\n\u001b[0;32m     48\u001b[0m \u001b[38;5;28;01mfrom\u001b[39;00m \u001b[38;5;21;01m.\u001b[39;00m\u001b[38;5;21;01mutils\u001b[39;00m\u001b[38;5;21;01m.\u001b[39;00m\u001b[38;5;21;01mcircuits\u001b[39;00m \u001b[38;5;28;01mimport\u001b[39;00m z_encoding_circuit, zz_encoding_circuit\n\u001b[0;32m     50\u001b[0m Scaler \u001b[38;5;241m=\u001b[39m (\n\u001b[0;32m     51\u001b[0m     StandardScaler \u001b[38;5;241m|\u001b[39m\n\u001b[0;32m     52\u001b[0m     MinMaxScaler \u001b[38;5;241m|\u001b[39m\n\u001b[1;32m   (...)\u001b[0m\n\u001b[0;32m     59\u001b[0m     \u001b[38;5;28;01mNone\u001b[39;00m\n\u001b[0;32m     60\u001b[0m )\n",
      "\u001b[1;31mImportError\u001b[0m: attempted relative import with no known parent package"
     ]
    }
   ],
   "source": [
    "import os\n",
    "import sys\n",
    "import joblib\n",
    "import pandas as pd\n",
    "\n",
    "from sklearn.model_selection import train_test_split\n",
    "from sklearn.preprocessing import MinMaxScaler\n",
    "from optuna.samplers import TPESampler\n",
    "\n",
    "sys.path.append(\"./../src/\")\n",
    "from qkm_tuner import QKMTuner"
   ]
  },
  {
   "cell_type": "code",
   "execution_count": 7,
   "metadata": {},
   "outputs": [],
   "source": [
    "# load 1D-PEC H adsorption data for alpha structure\n",
    "file_1D_alpha = './data/alpha-potential_curve.xlsx'\n",
    "data_alpha = get_1D_pes_from_xls(file_1D_alpha)\n",
    "\n",
    "# restrict ourselves to on-top1 configuration\n",
    "R_ontop1 = data_alpha[0][:,0]\n",
    "E_ontop1 = data_alpha[0][:,1]\n",
    "\n",
    "# perform train-test split\n",
    "Rtrain, Rtest, Etrain, Etest = train_test_split(\n",
    "    R_ontop1,\n",
    "    E_ontop1,\n",
    "    test_size=0.2,\n",
    "    random_state=43\n",
    ")\n",
    "Rtrain = Rtrain.reshape(-1,1)\n",
    "Rtest = Rtest.reshape(-1,1)\n",
    "Etrain = Etrain.reshape(-1,1)\n",
    "Etest = Etest.reshape(-1,1)"
   ]
  },
  {
   "cell_type": "markdown",
   "metadata": {},
   "source": [
    "#### How to set up the method\n",
    "\n",
    "Within this simulation we use sQUlearn's default PQK within a QSVR. For the sake of demonstration purposes we restrict ourselves to only evaluating the best model for the YZ_CX_EncodingCircuit. The following hyperparameters are optimized:\n",
    "\n",
    "- min_range and max_range defining the feature_range in MinMaxScaler(feature_range=(min_range, max_range)) used for feature rescaling as well as therein we should use clip=True/False\n",
    "- num_qubits of YZ_CX_EncodingCircuit\n",
    "- num_layers of YZ_CX_EncodingCircuit\n",
    "- gamma of outer_kernel=\"gaussian\"\n",
    "- epsilon and C, i.e. the QSVR regularization parameters\n",
    "\n",
    "Futher one can specify:\n",
    "\n",
    "- the boundaries of Optuna's hyperparameter search space (num_qubits_max and num_layers_max), \n",
    "- use different specifications of the PQKs (measurement and outer_kernel)\n",
    "- optuna_sampler and optuna_pruner"
   ]
  },
  {
   "cell_type": "code",
   "execution_count": 33,
   "metadata": {},
   "outputs": [
    {
     "name": "stderr",
     "output_type": "stream",
     "text": [
      "c:\\Users\\jsl\\Documents\\Code\\CCI-GitLab-Repo_Quantum\\aquas\\demonstrator_aquas_meeting_2024-05-13\\pipeline\\pipeline_modified.py:121: UserWarning:\n",
      "\n",
      "Optuna does not support saving/reloading across different Optuna versions with pickle.\n",
      "            Thus, make sure to pip install the same versions or consider using RDBs to \n",
      "            save/reload a study accross different Optuna versions, cf.\n",
      "            https://optuna.readthedocs.io/en/stable/tutorial/20_recipes/001_rdb.html#rdb\n",
      "\n",
      "[I 2024-05-08 12:50:00,825] A new study created in memory with name: optuna_study_evaluate_best_model_QSVR_PQK_YZ_CX_EncodingCircuit_1D_H_adsorption_PEC_alpha_ontop1\n",
      "[I 2024-05-08 12:50:07,593] Trial 0 finished with value: 0.5486497005244173 and parameters: {'num_qubits': 6, 'num_layers': 4, 'min_range': -0.6239778297350675, 'max_range': 0.8559005023838371, 'clip': False, 'C': 86.7530797689978, 'epsilon': 0.10615904599004, 'gamma': 605.3082080079017}. Best is trial 0 with value: 0.5486497005244173.\n",
      "[I 2024-05-08 12:50:14,151] Trial 1 finished with value: 0.6058806746689098 and parameters: {'num_qubits': 4, 'num_layers': 6, 'min_range': -0.7400101295865527, 'max_range': 0.8922823100221681, 'clip': True, 'C': 0.060836426698260705, 'epsilon': 1.5204270129130212e-09, 'gamma': 99.01912249089663}. Best is trial 1 with value: 0.6058806746689098.\n",
      "[I 2024-05-08 12:50:45,497] Trial 2 finished with value: 0.03554444188930317 and parameters: {'num_qubits': 8, 'num_layers': 7, 'min_range': -0.03358622948155987, 'max_range': 1.2553153371983128, 'clip': False, 'C': 0.11600316346542339, 'epsilon': 0.000574498887395413, 'gamma': 0.007246356970270901}. Best is trial 1 with value: 0.6058806746689098.\n",
      "[I 2024-05-08 12:50:53,767] Trial 3 finished with value: 0.9993224434257328 and parameters: {'num_qubits': 10, 'num_layers': 2, 'min_range': -0.9194468745961363, 'max_range': 0.4155629837269235, 'clip': True, 'C': 1305.8868234515774, 'epsilon': 1.476074249519799e-09, 'gamma': 5.079406641139769}. Best is trial 3 with value: 0.9993224434257328.\n",
      "[I 2024-05-08 12:50:59,848] Trial 4 finished with value: 0.9999956602240326 and parameters: {'num_qubits': 7, 'num_layers': 3, 'min_range': -0.08836031164438318, 'max_range': 1.0710008213659494, 'clip': False, 'C': 18996.813686210295, 'epsilon': 3.483607722774882e-09, 'gamma': 10.013831806758102}. Best is trial 4 with value: 0.9999956602240326.\n",
      "[I 2024-05-08 12:51:01,368] Trial 5 finished with value: -8.555907712954559 and parameters: {'num_qubits': 7, 'num_layers': 1, 'min_range': -1.3682793720113875, 'max_range': 0.4954736949986796, 'clip': False, 'C': 88.59589936506335, 'epsilon': 0.7858950304147574, 'gamma': 0.004095141046390406}. Best is trial 4 with value: 0.9999956602240326.\n",
      "[I 2024-05-08 12:51:01,911] Trial 6 finished with value: 0.7779943142531645 and parameters: {'num_qubits': 3, 'num_layers': 1, 'min_range': -0.5448961681546829, 'max_range': 0.3978695188774826, 'clip': True, 'C': 0.26960395124090775, 'epsilon': 9.848640172873797e-09, 'gamma': 8.669170346597808}. Best is trial 4 with value: 0.9999956602240326.\n",
      "[I 2024-05-08 12:51:02,258] Trial 7 finished with value: -8.555907712954559 and parameters: {'num_qubits': 2, 'num_layers': 1, 'min_range': -0.9916041831238328, 'max_range': 1.2896131497686147, 'clip': False, 'C': 0.07326316408987177, 'epsilon': 0.6139530838198274, 'gamma': 0.6484958629787589}. Best is trial 4 with value: 0.9999956602240326.\n",
      "[I 2024-05-08 12:51:15,440] Trial 8 finished with value: 0.040374502183594216 and parameters: {'num_qubits': 10, 'num_layers': 3, 'min_range': -0.4095638117427969, 'max_range': 0.061556040128288414, 'clip': True, 'C': 4.62659812708008, 'epsilon': 1.1709799813329297e-08, 'gamma': 0.08089078990624672}. Best is trial 4 with value: 0.9999956602240326.\n",
      "[I 2024-05-08 12:51:16,242] Trial 9 finished with value: 0.8235063791303515 and parameters: {'num_qubits': 5, 'num_layers': 1, 'min_range': -0.4830636652805922, 'max_range': 0.8900154830243351, 'clip': False, 'C': 0.07005910691797325, 'epsilon': 0.00015258732517912495, 'gamma': 376.51058087853585}. Best is trial 4 with value: 0.9999956602240326.\n",
      "[I 2024-05-08 12:51:17,289] Trial 10 finished with value: 0.9999955313738743 and parameters: {'num_qubits': 1, 'num_layers': 2, 'min_range': -0.07417573438579717, 'max_range': 1.4602756549180196, 'clip': False, 'C': 1007385.7672427527, 'epsilon': 5.964667534359956e-07, 'gamma': 27.737848592598315}. Best is trial 4 with value: 0.9999956602240326.\n",
      "[I 2024-05-08 12:51:18,724] Trial 11 finished with value: 0.9999953599681757 and parameters: {'num_qubits': 1, 'num_layers': 2, 'min_range': -0.07095763148783654, 'max_range': 1.5377893982270292, 'clip': False, 'C': 770579.1131219994, 'epsilon': 5.47320461216822e-07, 'gamma': 18.807503831108903}. Best is trial 4 with value: 0.9999956602240326.\n",
      "[I 2024-05-08 12:52:01,045] Trial 12 finished with value: 0.4596724054536231 and parameters: {'num_qubits': 8, 'num_layers': 2, 'min_range': -0.2507437061138884, 'max_range': 1.2065088807048374, 'clip': False, 'C': 806231.3693011875, 'epsilon': 4.1485544932080256e-07, 'gamma': 0.445909729792395}. Best is trial 4 with value: 0.9999956602240326.\n",
      "[I 2024-05-08 12:52:06,739] Trial 13 finished with value: 0.9999916258952626 and parameters: {'num_qubits': 5, 'num_layers': 4, 'min_range': -0.2550955597813115, 'max_range': 1.5464841791732127, 'clip': False, 'C': 12602.574187515549, 'epsilon': 8.915386379140548e-07, 'gamma': 47.954439335902585}. Best is trial 4 with value: 0.9999956602240326.\n",
      "[I 2024-05-08 13:28:18,323] Trial 14 finished with value: -62.61166378064762 and parameters: {'num_qubits': 1, 'num_layers': 10, 'min_range': -1.4960600156521764, 'max_range': 1.1550055564303976, 'clip': False, 'C': 7825240.784029347, 'epsilon': 4.999647472703653e-06, 'gamma': 2.516980438476858}. Best is trial 4 with value: 0.9999956602240326.\n",
      "[I 2024-05-08 13:28:20,725] Trial 15 finished with value: 0.9999836869632226 and parameters: {'num_qubits': 3, 'num_layers': 3, 'min_range': -0.23528519314992558, 'max_range': 1.05382426403804, 'clip': False, 'C': 49296.34703582301, 'epsilon': 3.950920725962123e-08, 'gamma': 99.97291348193828}. Best is trial 4 with value: 0.9999956602240326.\n",
      "[I 2024-05-08 13:28:32,749] Trial 16 finished with value: 0.9984928974732092 and parameters: {'num_qubits': 7, 'num_layers': 3, 'min_range': -1.1434075036393627, 'max_range': 1.3994761220998544, 'clip': False, 'C': 28500.62633700839, 'epsilon': 1.2891750416727087e-05, 'gamma': 0.05923389728693756}. Best is trial 4 with value: 0.9999956602240326.\n",
      "[I 2024-05-08 13:28:37,863] Trial 17 finished with value: 0.9987753065140174 and parameters: {'num_qubits': 9, 'num_layers': 2, 'min_range': -0.022145586924590788, 'max_range': 0.6746220697208476, 'clip': False, 'C': 1819.9927541419781, 'epsilon': 0.004662422099577177, 'gamma': 22.73145719044451}. Best is trial 4 with value: 0.9999956602240326.\n",
      "[I 2024-05-08 13:33:35,547] Trial 18 finished with value: 0.16863566471472122 and parameters: {'num_qubits': 6, 'num_layers': 6, 'min_range': -0.35209431622636184, 'max_range': 1.3459738216891648, 'clip': True, 'C': 895622.5954719516, 'epsilon': 8.856170358609536e-08, 'gamma': 1.5524543032244442}. Best is trial 4 with value: 0.9999956602240326.\n",
      "[I 2024-05-08 13:33:50,189] Trial 19 finished with value: 0.9960460945250524 and parameters: {'num_qubits': 4, 'num_layers': 4, 'min_range': -0.20250150817832202, 'max_range': 1.0277566688054076, 'clip': False, 'C': 74067.63259274287, 'epsilon': 3.837572995212725e-06, 'gamma': 0.23544748819841815}. Best is trial 4 with value: 0.9999956602240326.\n",
      "[I 2024-05-08 13:33:55,810] Trial 20 finished with value: 0.999757348623889 and parameters: {'num_qubits': 7, 'num_layers': 3, 'min_range': -0.7110675365761923, 'max_range': 0.7083690106006857, 'clip': False, 'C': 5584789.711409023, 'epsilon': 8.986143381408598e-08, 'gamma': 155.4393217739177}. Best is trial 4 with value: 0.9999956602240326.\n",
      "[I 2024-05-08 13:34:35,028] Trial 21 finished with value: 0.9957705625035592 and parameters: {'num_qubits': 1, 'num_layers': 2, 'min_range': -0.013334548333922704, 'max_range': 1.4377465496483715, 'clip': False, 'C': 253989.1960871015, 'epsilon': 3.6293502771817166e-07, 'gamma': 13.785695483463185}. Best is trial 4 with value: 0.9999956602240326.\n",
      "[I 2024-05-08 13:34:36,276] Trial 22 finished with value: 0.9999948486347098 and parameters: {'num_qubits': 2, 'num_layers': 2, 'min_range': -0.1427922621313223, 'max_range': 1.5612277480133554, 'clip': False, 'C': 3582.9752820565323, 'epsilon': 2.9112480803237737e-05, 'gamma': 27.24494171315977}. Best is trial 4 with value: 0.9999956602240326.\n",
      "[I 2024-05-08 13:37:44,812] Trial 23 finished with value: 0.06007790673963598 and parameters: {'num_qubits': 1, 'num_layers': 3, 'min_range': -0.3567584239217424, 'max_range': 1.4765502372394608, 'clip': False, 'C': 914554.5589004484, 'epsilon': 1.5389308246926601e-06, 'gamma': 4.047738580241149}. Best is trial 4 with value: 0.9999956602240326.\n",
      "[I 2024-05-08 13:37:47,176] Trial 24 finished with value: 0.9999956388299289 and parameters: {'num_qubits': 2, 'num_layers': 5, 'min_range': -0.1136726958860607, 'max_range': 1.0750865964674916, 'clip': False, 'C': 242544.54204071712, 'epsilon': 2.4522025067276622e-08, 'gamma': 13.65222188027235}. Best is trial 4 with value: 0.9999956602240326.\n",
      "[I 2024-05-08 13:37:48,925] Trial 25 finished with value: 0.9989253668954984 and parameters: {'num_qubits': 2, 'num_layers': 5, 'min_range': -0.12464968989140345, 'max_range': 1.036927846936548, 'clip': False, 'C': 10311.642497299987, 'epsilon': 7.691892369736107e-09, 'gamma': 238.87380061663168}. Best is trial 4 with value: 0.9999956602240326.\n",
      "[I 2024-05-08 13:37:57,278] Trial 26 finished with value: 0.9993110526255198 and parameters: {'num_qubits': 3, 'num_layers': 9, 'min_range': -0.3649977654771414, 'max_range': 1.1494349692336563, 'clip': True, 'C': 153877.22810851992, 'epsilon': 3.962152713309896e-08, 'gamma': 40.32237390512997}. Best is trial 4 with value: 0.9999956602240326.\n",
      "[I 2024-05-08 13:38:02,580] Trial 27 finished with value: 0.8162425985790589 and parameters: {'num_qubits': 4, 'num_layers': 5, 'min_range': -0.5543824351889979, 'max_range': 1.0244836143066542, 'clip': False, 'C': 358.1099528860481, 'epsilon': 1.070634960624425e-09, 'gamma': 0.001063270679514029}. Best is trial 4 with value: 0.9999956602240326.\n",
      "[I 2024-05-08 13:38:06,232] Trial 28 finished with value: 0.9228298356864351 and parameters: {'num_qubits': 2, 'num_layers': 8, 'min_range': -0.16336384404940463, 'max_range': 0.593312378414903, 'clip': False, 'C': 2588985.120704916, 'epsilon': 1.5311774180092942e-07, 'gamma': 870.6083489269191}. Best is trial 4 with value: 0.9999956602240326.\n",
      "[I 2024-05-08 13:38:13,234] Trial 29 finished with value: 0.99953145584109 and parameters: {'num_qubits': 6, 'num_layers': 4, 'min_range': -0.6720666261035723, 'max_range': 0.8209225988322822, 'clip': False, 'C': 23.707384792681932, 'epsilon': 5.092250360712456e-09, 'gamma': 7.299214323277652}. Best is trial 4 with value: 0.9999956602240326.\n",
      "[I 2024-05-08 13:40:24,303] Trial 30 finished with value: 0.9279334615972378 and parameters: {'num_qubits': 8, 'num_layers': 6, 'min_range': -0.9118840306077726, 'max_range': 0.9162008443025688, 'clip': False, 'C': 219585.0147633922, 'epsilon': 2.5974126878037058e-08, 'gamma': 1.5360757588446454}. Best is trial 4 with value: 0.9999956602240326.\n",
      "[I 2024-05-08 13:40:26,030] Trial 31 finished with value: 0.9999946248504376 and parameters: {'num_qubits': 1, 'num_layers': 5, 'min_range': -0.08208026816396483, 'max_range': 1.3426433933379165, 'clip': False, 'C': 1754514.9321232329, 'epsilon': 2.4911658033154514e-07, 'gamma': 61.028030530218935}. Best is trial 4 with value: 0.9999956602240326.\n",
      "[I 2024-05-08 13:49:52,585] Trial 32 finished with value: 0.7034389966608015 and parameters: {'num_qubits': 1, 'num_layers': 4, 'min_range': -0.29901292165940385, 'max_range': 1.4663461153741666, 'clip': False, 'C': 327976.83358830446, 'epsilon': 2.066427099279354e-06, 'gamma': 13.792663439733285}. Best is trial 4 with value: 0.9999956602240326.\n",
      "[I 2024-05-08 13:49:54,264] Trial 33 finished with value: 0.9999961765705517 and parameters: {'num_qubits': 2, 'num_layers': 3, 'min_range': -0.10409733496893635, 'max_range': 1.2573618998361153, 'clip': False, 'C': 11591.650211783584, 'epsilon': 3.862406831873052e-09, 'gamma': 18.40260424252274}. Best is trial 33 with value: 0.9999961765705517.\n",
      "[I 2024-05-08 13:49:59,896] Trial 34 finished with value: 0.999318860305318 and parameters: {'num_qubits': 3, 'num_layers': 7, 'min_range': -0.14747115056529922, 'max_range': 1.126817842606477, 'clip': True, 'C': 7842.950432194624, 'epsilon': 1.1665139103637283e-09, 'gamma': 4.151186423687929}. Best is trial 33 with value: 0.9999961765705517.\n",
      "[I 2024-05-08 13:50:01,734] Trial 35 finished with value: 0.996163890727828 and parameters: {'num_qubits': 2, 'num_layers': 5, 'min_range': -0.44475186692816876, 'max_range': 1.259848383635391, 'clip': False, 'C': 956.2107491438205, 'epsilon': 4.470332828639777e-09, 'gamma': 89.44437149642495}. Best is trial 33 with value: 0.9999961765705517.\n",
      "[I 2024-05-08 13:52:32,866] Trial 36 finished with value: 0.999227076814301 and parameters: {'num_qubits': 4, 'num_layers': 4, 'min_range': -0.012486425976761972, 'max_range': 0.9843633234316618, 'clip': False, 'C': 43031.20729313476, 'epsilon': 3.1492965930322226e-09, 'gamma': 9.717829986320899}. Best is trial 33 with value: 0.9999961765705517.\n",
      "[I 2024-05-08 13:52:34,086] Trial 37 finished with value: 0.9913424528491832 and parameters: {'num_qubits': 2, 'num_layers': 3, 'min_range': -0.5983096726265738, 'max_range': 1.2204051596722596, 'clip': True, 'C': 19061.378296738752, 'epsilon': 1.7531794271956933e-08, 'gamma': 450.5569830135259}. Best is trial 33 with value: 0.9999961765705517.\n",
      "[I 2024-05-08 13:53:01,221] Trial 38 finished with value: 0.9985339791296217 and parameters: {'num_qubits': 7, 'num_layers': 7, 'min_range': -0.8031848398697857, 'max_range': 1.3404718653702865, 'clip': False, 'C': 306.42528604504434, 'epsilon': 0.005963188260457823, 'gamma': 2.7658687166693485}. Best is trial 33 with value: 0.9999961765705517.\n",
      "[I 2024-05-08 13:55:53,155] Trial 39 finished with value: 0.9971761993295765 and parameters: {'num_qubits': 5, 'num_layers': 4, 'min_range': -0.28938271304716234, 'max_range': 0.17626615629960374, 'clip': False, 'C': 106869.60176591686, 'epsilon': 2.6565875039027286e-09, 'gamma': 34.50848836070481}. Best is trial 33 with value: 0.9999961765705517.\n",
      "[I 2024-05-08 13:55:54,608] Trial 40 finished with value: 0.9274507800972465 and parameters: {'num_qubits': 3, 'num_layers': 3, 'min_range': -1.17307002180462, 'max_range': 1.136432638405912, 'clip': True, 'C': 0.5953175098959198, 'epsilon': 6.139915841217944e-08, 'gamma': 0.9871327314904548}. Best is trial 33 with value: 0.9999961765705517.\n",
      "[I 2024-05-08 13:55:55,583] Trial 41 finished with value: 0.9999923730444256 and parameters: {'num_qubits': 1, 'num_layers': 2, 'min_range': -0.08634959213398552, 'max_range': 1.5243371596028645, 'clip': False, 'C': 474649.1563149492, 'epsilon': 0.00016131551698905653, 'gamma': 12.903294730599994}. Best is trial 33 with value: 0.9999961765705517.\n",
      "[I 2024-05-08 13:55:58,231] Trial 42 finished with value: 0.999995568314543 and parameters: {'num_qubits': 2, 'num_layers': 2, 'min_range': -0.07815828906959313, 'max_range': 1.3988098723527775, 'clip': False, 'C': 2450255.9835766535, 'epsilon': 6.355540970136538e-07, 'gamma': 24.03642772744635}. Best is trial 33 with value: 0.9999961765705517.\n",
      "[I 2024-05-08 14:10:05,638] Trial 43 finished with value: -7.845781564390407 and parameters: {'num_qubits': 2, 'num_layers': 2, 'min_range': -0.1686531076328192, 'max_range': 1.2973773081864763, 'clip': False, 'C': 5070203.7116862405, 'epsilon': 1.0295959883566196e-08, 'gamma': 6.7101899305750665}. Best is trial 33 with value: 0.9999961765705517.\n",
      "[I 2024-05-08 14:10:06,694] Trial 44 finished with value: 0.9999909366683727 and parameters: {'num_qubits': 3, 'num_layers': 1, 'min_range': -0.09872662009492195, 'max_range': 1.3902785092107128, 'clip': False, 'C': 2200019.6606244096, 'epsilon': 1.782273967209206e-08, 'gamma': 159.98788457022997}. Best is trial 33 with value: 0.9999961765705517.\n",
      "[I 2024-05-08 14:10:34,767] Trial 45 finished with value: 0.5879830738755176 and parameters: {'num_qubits': 8, 'num_layers': 6, 'min_range': -0.20322065842618134, 'max_range': 0.9432955240558379, 'clip': False, 'C': 0.017458966632235524, 'epsilon': 2.1096901412339e-07, 'gamma': 72.03787604980566}. Best is trial 33 with value: 0.9999961765705517.\n",
      "[I 2024-05-08 14:10:36,448] Trial 46 finished with value: 0.9999942529084033 and parameters: {'num_qubits': 2, 'num_layers': 3, 'min_range': -0.47176719789249016, 'max_range': 1.2054794965039026, 'clip': False, 'C': 4157.493193357678, 'epsilon': 6.965898798345907e-06, 'gamma': 20.141802639955046}. Best is trial 33 with value: 0.9999961765705517.\n",
      "[I 2024-05-08 14:10:49,174] Trial 47 finished with value: 0.9764676162661723 and parameters: {'num_qubits': 4, 'num_layers': 2, 'min_range': -0.29821130203470125, 'max_range': 1.2867259239091302, 'clip': False, 'C': 132048.70818535588, 'epsilon': 1.2013888787382743e-06, 'gamma': 0.23954553744796886}. Best is trial 33 with value: 0.9999961765705517.\n",
      "[I 2024-05-08 14:13:01,746] Trial 48 finished with value: 0.9997816731143654 and parameters: {'num_qubits': 1, 'num_layers': 5, 'min_range': -0.0703401387384034, 'max_range': 0.775107895761958, 'clip': False, 'C': 29088.790379268696, 'epsilon': 2.7056975337889048e-09, 'gamma': 34.19238599899711}. Best is trial 33 with value: 0.9999961765705517.\n",
      "[I 2024-05-08 14:13:04,746] Trial 49 finished with value: 0.9998279361005518 and parameters: {'num_qubits': 3, 'num_layers': 4, 'min_range': -0.007596323419876594, 'max_range': 1.0895602910205486, 'clip': False, 'C': 1986945.831067482, 'epsilon': 8.141009699557246e-08, 'gamma': 224.50906619725478}. Best is trial 33 with value: 0.9999961765705517.\n",
      "[I 2024-05-08 14:14:06,131] Trial 50 finished with value: 0.9993235444250477 and parameters: {'num_qubits': 9, 'num_layers': 8, 'min_range': -0.22988128179658543, 'max_range': 1.4097483868981338, 'clip': True, 'C': 7524449.764471566, 'epsilon': 2.692575576328325e-08, 'gamma': 6.00273985871365}. Best is trial 33 with value: 0.9999961765705517.\n",
      "[I 2024-05-08 14:14:07,913] Trial 51 finished with value: 0.9999964459305609 and parameters: {'num_qubits': 1, 'num_layers': 2, 'min_range': -0.0761932689255125, 'max_range': 1.493420842475225, 'clip': False, 'C': 596138.0465505706, 'epsilon': 4.624147089816055e-07, 'gamma': 20.038388821527757}. Best is trial 51 with value: 0.9999964459305609.\n",
      "[I 2024-05-08 14:14:10,826] Trial 52 finished with value: 0.999995609452186 and parameters: {'num_qubits': 1, 'num_layers': 3, 'min_range': -0.07063073426884589, 'max_range': 1.2170333489039276, 'clip': False, 'C': 503066.55279721157, 'epsilon': 6.73130731874914e-07, 'gamma': 19.9988573628582}. Best is trial 51 with value: 0.9999964459305609.\n",
      "[I 2024-05-08 14:19:12,735] Trial 53 finished with value: 0.871151453536487 and parameters: {'num_qubits': 2, 'num_layers': 3, 'min_range': -0.2085487984299155, 'max_range': 1.205149084354396, 'clip': False, 'C': 583094.0607003192, 'epsilon': 6.791252350035176e-07, 'gamma': 2.6047657905076016}. Best is trial 51 with value: 0.9999964459305609.\n",
      "[I 2024-05-08 14:20:13,565] Trial 54 finished with value: 0.9996630305067009 and parameters: {'num_qubits': 1, 'num_layers': 3, 'min_range': -0.06498734631677347, 'max_range': 1.3663009922118965, 'clip': False, 'C': 63711.74830148623, 'epsilon': 2.890716122444339e-05, 'gamma': 17.206985121498168}. Best is trial 51 with value: 0.9999964459305609.\n",
      "[I 2024-05-08 14:20:14,902] Trial 55 finished with value: 0.9999920876094268 and parameters: {'num_qubits': 2, 'num_layers': 3, 'min_range': -0.13134791573238536, 'max_range': 1.4922851854787582, 'clip': False, 'C': 374689.89930908417, 'epsilon': 1.104802561704953e-05, 'gamma': 56.38253469460299}. Best is trial 51 with value: 0.9999964459305609.\n",
      "[I 2024-05-08 14:20:15,734] Trial 56 finished with value: 0.9999865598964595 and parameters: {'num_qubits': 1, 'num_layers': 2, 'min_range': -0.3937025491381817, 'max_range': 1.3118996972917618, 'clip': False, 'C': 3156084.880651175, 'epsilon': 2.0826955325526855e-06, 'gamma': 115.4920102974344}. Best is trial 51 with value: 0.9999964459305609.\n",
      "[I 2024-05-08 14:20:38,362] Trial 57 finished with value: 0.9999953843821536 and parameters: {'num_qubits': 7, 'num_layers': 6, 'min_range': -0.3064305456399164, 'max_range': 1.2448059048991924, 'clip': False, 'C': 9852226.853685789, 'epsilon': 1.5604231037800174e-07, 'gamma': 11.3408318846246}. Best is trial 51 with value: 0.9999964459305609.\n",
      "[I 2024-05-08 14:20:41,642] Trial 58 finished with value: 0.11769245185475193 and parameters: {'num_qubits': 1, 'num_layers': 4, 'min_range': -0.003494278624963834, 'max_range': 1.104557672730381, 'clip': False, 'C': 1186851.088882315, 'epsilon': 9.357033127053216e-09, 'gamma': 0.046275237918814535}. Best is trial 51 with value: 0.9999964459305609.\n",
      "[I 2024-05-08 14:20:45,064] Trial 59 finished with value: 0.9999920653894808 and parameters: {'num_qubits': 2, 'num_layers': 3, 'min_range': -0.16741388475434232, 'max_range': 0.8618028366956755, 'clip': False, 'C': 94418.78958744607, 'epsilon': 9.942133444804419e-05, 'gamma': 24.38179972714965}. Best is trial 51 with value: 0.9999964459305609.\n",
      "[I 2024-05-08 14:21:15,974] Trial 60 finished with value: 0.9999800635764372 and parameters: {'num_qubits': 5, 'num_layers': 1, 'min_range': -0.2591244166716813, 'max_range': 1.1683608895330946, 'clip': False, 'C': 4413.744863029229, 'epsilon': 4.1118711841483687e-08, 'gamma': 4.292576892670581}. Best is trial 51 with value: 0.9999964459305609.\n",
      "[I 2024-05-08 14:21:16,784] Trial 61 finished with value: 0.9999950538248866 and parameters: {'num_qubits': 1, 'num_layers': 2, 'min_range': -0.10613670304614034, 'max_range': 1.4341282866605496, 'clip': False, 'C': 914403.8313349563, 'epsilon': 5.889220788698746e-07, 'gamma': 49.14088992125102}. Best is trial 51 with value: 0.9999964459305609.\n",
      "[I 2024-05-08 14:23:15,630] Trial 62 finished with value: 0.9511394534807974 and parameters: {'num_qubits': 1, 'num_layers': 2, 'min_range': -0.038469455169958006, 'max_range': 1.5249009662546602, 'clip': False, 'C': 304712.6759140417, 'epsilon': 4.319357877613326e-07, 'gamma': 9.282454713301357}. Best is trial 51 with value: 0.9999964459305609.\n",
      "[I 2024-05-08 14:23:21,582] Trial 63 finished with value: 0.9991838005086138 and parameters: {'num_qubits': 2, 'num_layers': 10, 'min_range': -0.1866949736794593, 'max_range': 1.446105801083582, 'clip': False, 'C': 209198.95798144795, 'epsilon': 3.3666610243202576e-06, 'gamma': 26.00495158862542}. Best is trial 51 with value: 0.9999964459305609.\n",
      "[I 2024-05-08 14:23:25,224] Trial 64 finished with value: 0.9999882988696445 and parameters: {'num_qubits': 6, 'num_layers': 2, 'min_range': -0.06174012467478593, 'max_range': 1.5641535254371277, 'clip': False, 'C': 22887.90837119968, 'epsilon': 1.1694151902501445e-07, 'gamma': 39.64534781921345}. Best is trial 51 with value: 0.9999964459305609.\n",
      "[I 2024-05-08 14:23:26,302] Trial 65 finished with value: 0.22988210977399234 and parameters: {'num_qubits': 3, 'num_layers': 2, 'min_range': -1.5492728504401085, 'max_range': 1.3808306411747429, 'clip': False, 'C': 4297126.571831103, 'epsilon': 0.13736510365455987, 'gamma': 1.544436061456703}. Best is trial 51 with value: 0.9999964459305609.\n",
      "[I 2024-05-08 14:39:03,265] Trial 66 finished with value: 0.32008659750879187 and parameters: {'num_qubits': 1, 'num_layers': 7, 'min_range': -0.12914866186221868, 'max_range': 0.975073238419224, 'clip': False, 'C': 1212580.008019558, 'epsilon': 2.769893112947523e-07, 'gamma': 18.591850684125017}. Best is trial 51 with value: 0.9999964459305609.\n",
      "[I 2024-05-08 14:39:14,746] Trial 67 finished with value: 0.9991280813048491 and parameters: {'num_qubits': 9, 'num_layers': 3, 'min_range': -1.3353313619872456, 'max_range': 1.1814117113705311, 'clip': True, 'C': 46953.96367037906, 'epsilon': 1.1059511521444421e-06, 'gamma': 120.05465401423474}. Best is trial 51 with value: 0.9999964459305609.\n",
      "[I 2024-05-08 14:39:17,692] Trial 68 finished with value: 0.99999522841304 and parameters: {'num_qubits': 2, 'num_layers': 4, 'min_range': -0.3302374065719889, 'max_range': 1.0664394238385262, 'clip': False, 'C': 1458.7885732451673, 'epsilon': 1.6850523910180994e-08, 'gamma': 7.576305251943924}. Best is trial 51 with value: 0.9999964459305609.\n",
      "[I 2024-05-08 14:39:19,638] Trial 69 finished with value: 0.9987001703711794 and parameters: {'num_qubits': 2, 'num_layers': 5, 'min_range': -0.2502627223819741, 'max_range': 1.4958709430930346, 'clip': False, 'C': 12041.004537306066, 'epsilon': 5.227726681326715e-09, 'gamma': 70.47930562082045}. Best is trial 51 with value: 0.9999964459305609.\n",
      "[I 2024-05-08 14:39:28,833] Trial 70 finished with value: 0.9999953162560976 and parameters: {'num_qubits': 3, 'num_layers': 8, 'min_range': -0.041257268516719, 'max_range': 1.2833440471837014, 'clip': False, 'C': 586007.8567032893, 'epsilon': 1.8394929350385728e-09, 'gamma': 2.8215296071502047}. Best is trial 51 with value: 0.9999964459305609.\n",
      "[I 2024-05-08 14:39:56,977] Trial 71 finished with value: 0.9999952717591001 and parameters: {'num_qubits': 7, 'num_layers': 7, 'min_range': -0.11672238485412881, 'max_range': 1.2467202532837853, 'clip': False, 'C': 6404939.356103536, 'epsilon': 1.55751430371795e-07, 'gamma': 12.062463571280947}. Best is trial 51 with value: 0.9999964459305609.\n",
      "[I 2024-05-08 14:46:39,151] Trial 72 finished with value: -2.4432591018611163 and parameters: {'num_qubits': 8, 'num_layers': 6, 'min_range': -0.16599176154540735, 'max_range': 1.2377398355172589, 'clip': False, 'C': 3137358.086931484, 'epsilon': 4.9058284111212123e-08, 'gamma': 10.75249562470346}. Best is trial 51 with value: 0.9999964459305609.\n",
      "[I 2024-05-08 14:47:24,232] Trial 73 finished with value: 0.9999960296857386 and parameters: {'num_qubits': 7, 'num_layers': 9, 'min_range': -0.2163114930773905, 'max_range': 1.3362462441153102, 'clip': False, 'C': 9392605.173973449, 'epsilon': 2.975153239630706e-06, 'gamma': 4.683301756716533}. Best is trial 51 with value: 0.9999964459305609.\n",
      "[I 2024-05-08 14:47:57,126] Trial 74 finished with value: 0.9999858356047107 and parameters: {'num_qubits': 6, 'num_layers': 9, 'min_range': -0.06249127998450508, 'max_range': 1.3304759061604432, 'clip': False, 'C': 29.801685818540896, 'epsilon': 4.026804159402316e-06, 'gamma': 16.025469244266947}. Best is trial 51 with value: 0.9999964459305609.\n",
      "[I 2024-05-08 14:57:18,743] Trial 75 finished with value: -0.03359303444463135 and parameters: {'num_qubits': 6, 'num_layers': 6, 'min_range': -0.22336665744314763, 'max_range': 1.4393673232452984, 'clip': False, 'C': 1598921.338844594, 'epsilon': 2.136670442721602e-06, 'gamma': 4.67474138748647}. Best is trial 51 with value: 0.9999964459305609.\n",
      "[I 2024-05-08 14:57:21,019] Trial 76 finished with value: 0.9999908271767654 and parameters: {'num_qubits': 1, 'num_layers': 9, 'min_range': -0.12625771986328177, 'max_range': 1.4034846917229635, 'clip': False, 'C': 149125.69655653168, 'epsilon': 1.4801120102315449e-05, 'gamma': 28.24852997535635}. Best is trial 51 with value: 0.9999964459305609.\n",
      "[I 2024-05-08 14:59:13,242] Trial 77 finished with value: 0.23229022703905838 and parameters: {'num_qubits': 7, 'num_layers': 8, 'min_range': -0.08637808495145126, 'max_range': 1.3240073757208213, 'clip': False, 'C': 642562.7309875308, 'epsilon': 9.624523837885894e-07, 'gamma': 0.933730048180341}. Best is trial 51 with value: 0.9999964459305609.\n",
      "[I 2024-05-08 15:04:19,735] Trial 78 finished with value: -2.1244567884289425 and parameters: {'num_qubits': 1, 'num_layers': 10, 'min_range': -0.0018812244885319518, 'max_range': 0.4981264647191525, 'clip': False, 'C': 3533005.1908945353, 'epsilon': 3.8429028874929963e-07, 'gamma': 7.904331655526296}. Best is trial 51 with value: 0.9999964459305609.\n",
      "[I 2024-05-08 15:04:36,173] Trial 79 finished with value: 0.9966277937720619 and parameters: {'num_qubits': 7, 'num_layers': 5, 'min_range': -0.26671079570124917, 'max_range': 0.23994797511931665, 'clip': True, 'C': 529.5673089509204, 'epsilon': 1.7481079255192478e-09, 'gamma': 3.5446553405274845}. Best is trial 51 with value: 0.9999964459305609.\n",
      "[I 2024-05-08 15:04:40,420] Trial 80 finished with value: 0.9999893107363016 and parameters: {'num_qubits': 2, 'num_layers': 7, 'min_range': -0.18999008017321178, 'max_range': 1.0055481697924984, 'clip': False, 'C': 284603.6410498467, 'epsilon': 7.074254872973062e-06, 'gamma': 39.00307712235336}. Best is trial 51 with value: 0.9999964459305609.\n",
      "[I 2024-05-08 15:05:39,987] Trial 81 finished with value: 0.9999947447918923 and parameters: {'num_qubits': 7, 'num_layers': 10, 'min_range': -0.32240889037289455, 'max_range': 1.2651059240292686, 'clip': False, 'C': 6812156.325258372, 'epsilon': 1.5214559580193485e-07, 'gamma': 14.052283372766059}. Best is trial 51 with value: 0.9999964459305609.\n",
      "[I 2024-05-08 15:08:42,726] Trial 82 finished with value: -11.21108069261399 and parameters: {'num_qubits': 7, 'num_layers': 6, 'min_range': -0.1479691452939152, 'max_range': 1.3613886746092008, 'clip': False, 'C': 9824435.94830993, 'epsilon': 3.0591405662110704e-07, 'gamma': 5.189814061266568}. Best is trial 51 with value: 0.9999964459305609.\n",
      "[I 2024-05-08 15:11:47,004] Trial 83 finished with value: -0.7737785599103345 and parameters: {'num_qubits': 8, 'num_layers': 8, 'min_range': -0.040917348797342865, 'max_range': 1.1418785488676981, 'clip': False, 'C': 1572404.6414648406, 'epsilon': 9.159348028868958e-08, 'gamma': 1.8714951653476564}. Best is trial 51 with value: 0.9999964459305609.\n",
      "[I 2024-05-08 15:13:17,153] Trial 84 finished with value: 0.9999908273491425 and parameters: {'num_qubits': 10, 'num_layers': 9, 'min_range': -0.2165205415641679, 'max_range': 1.4851736948025802, 'clip': False, 'C': 2424612.9061937896, 'epsilon': 2.5249717115986353e-08, 'gamma': 20.873700359058684}. Best is trial 51 with value: 0.9999964459305609.\n",
      "[I 2024-05-08 15:22:18,357] Trial 85 finished with value: -2.013841388861144 and parameters: {'num_qubits': 6, 'num_layers': 5, 'min_range': -0.1087037787087128, 'max_range': 1.0962760400379454, 'clip': False, 'C': 4423672.74585372, 'epsilon': 7.462568149190117e-09, 'gamma': 11.041760736621352}. Best is trial 51 with value: 0.9999964459305609.\n",
      "[I 2024-05-08 15:22:56,582] Trial 86 finished with value: 0.9999956829135244 and parameters: {'num_qubits': 8, 'num_layers': 7, 'min_range': -0.09330172586693464, 'max_range': 1.2128780162464368, 'clip': False, 'C': 844004.5070093939, 'epsilon': 6.826372830028165e-08, 'gamma': 28.108601974680045}. Best is trial 51 with value: 0.9999964459305609.\n",
      "[I 2024-05-08 15:23:56,764] Trial 87 finished with value: 0.9999922409400037 and parameters: {'num_qubits': 8, 'num_layers': 9, 'min_range': -0.03990374497366514, 'max_range': 1.1951165881124126, 'clip': False, 'C': 867946.1268365006, 'epsilon': 6.464419034540143e-07, 'gamma': 54.62920254272029}. Best is trial 51 with value: 0.9999964459305609.\n",
      "[I 2024-05-08 15:24:47,852] Trial 88 finished with value: 0.9995052247838722 and parameters: {'num_qubits': 9, 'num_layers': 7, 'min_range': -0.78289014660862, 'max_range': 1.2992509613520573, 'clip': False, 'C': 401139.0848611907, 'epsilon': 1.6438813006171757e-06, 'gamma': 86.09237109650499}. Best is trial 51 with value: 0.9999964459305609.\n",
      "[I 2024-05-08 15:25:09,216] Trial 89 finished with value: 0.9998058368585478 and parameters: {'num_qubits': 5, 'num_layers': 8, 'min_range': -1.0411402184728091, 'max_range': 1.4136245723580818, 'clip': False, 'C': 180329.56984359297, 'epsilon': 1.4017341736700355e-08, 'gamma': 35.17644652107337}. Best is trial 51 with value: 0.9999964459305609.\n",
      "[I 2024-05-08 15:25:11,207] Trial 90 finished with value: 0.9993264245814795 and parameters: {'num_qubits': 1, 'num_layers': 9, 'min_range': -0.15854288278459275, 'max_range': 1.3567081810171193, 'clip': True, 'C': 156.51361367533474, 'epsilon': 6.934107122765508e-08, 'gamma': 23.37473304762708}. Best is trial 51 with value: 0.9999964459305609.\n",
      "[I 2024-05-08 15:25:51,831] Trial 91 finished with value: 0.9999947348491492 and parameters: {'num_qubits': 7, 'num_layers': 8, 'min_range': -0.09259075903047198, 'max_range': 1.243488278239215, 'clip': False, 'C': 1412041.5462840341, 'epsilon': 2.0105273006660966e-07, 'gamma': 15.565657061438147}. Best is trial 51 with value: 0.9999964459305609.\n",
      "[I 2024-05-08 15:34:29,543] Trial 92 finished with value: -25.694129064127406 and parameters: {'num_qubits': 8, 'num_layers': 6, 'min_range': -0.19978387504673575, 'max_range': 1.1682096041564491, 'clip': False, 'C': 9157561.82160944, 'epsilon': 2.884778340114203e-08, 'gamma': 5.862500081800248}. Best is trial 51 with value: 0.9999964459305609.\n",
      "[I 2024-05-08 15:34:33,481] Trial 93 finished with value: 0.9999946418533382 and parameters: {'num_qubits': 2, 'num_layers': 7, 'min_range': -0.07881030470230381, 'max_range': 1.2741928079872895, 'clip': False, 'C': 2351497.5373677537, 'epsilon': 7.347960189291339e-07, 'gamma': 8.91101823876703}. Best is trial 51 with value: 0.9999964459305609.\n",
      "[I 2024-05-08 15:35:04,361] Trial 94 finished with value: 0.9999939478262936 and parameters: {'num_qubits': 8, 'num_layers': 6, 'min_range': -0.2737043106433886, 'max_range': 1.0726643768286879, 'clip': False, 'C': 528663.3911761526, 'epsilon': 5.786288965159449e-08, 'gamma': 28.13225606809108}. Best is trial 51 with value: 0.9999964459305609.\n",
      "[I 2024-05-08 15:36:04,273] Trial 95 finished with value: 0.9999921973944863 and parameters: {'num_qubits': 7, 'num_layers': 10, 'min_range': -0.3812858824339138, 'max_range': 1.1175595515177046, 'clip': False, 'C': 72021.66643915338, 'epsilon': 2.4343919592204345e-06, 'gamma': 51.37829209549937}. Best is trial 51 with value: 0.9999964459305609.\n",
      "[I 2024-05-08 15:36:06,356] Trial 96 finished with value: 0.7948533820589774 and parameters: {'num_qubits': 1, 'num_layers': 7, 'min_range': -0.14941618913552507, 'max_range': 1.5125361264724333, 'clip': False, 'C': 6093.155370613033, 'epsilon': 4.444712677564349e-09, 'gamma': 0.009542331855477294}. Best is trial 51 with value: 0.9999964459305609.\n",
      "[I 2024-05-08 15:45:05,389] Trial 97 finished with value: 0.5707778289889818 and parameters: {'num_qubits': 2, 'num_layers': 2, 'min_range': -0.031093286773222303, 'max_range': 1.463400548284354, 'clip': False, 'C': 986634.9527937317, 'epsilon': 4.228613593461205e-07, 'gamma': 6.997612924437055}. Best is trial 51 with value: 0.9999964459305609.\n",
      "[I 2024-05-08 15:45:17,793] Trial 98 finished with value: 0.9999939621282434 and parameters: {'num_qubits': 9, 'num_layers': 3, 'min_range': -0.43750501769163297, 'max_range': 1.2230446720800694, 'clip': False, 'C': 4475745.129638624, 'epsilon': 1.2788713306399436e-07, 'gamma': 19.533073603898007}. Best is trial 51 with value: 0.9999964459305609.\n",
      "[I 2024-05-08 15:45:32,669] Trial 99 finished with value: 0.9999963394464297 and parameters: {'num_qubits': 4, 'num_layers': 8, 'min_range': -0.18690001955757768, 'max_range': 0.9328656652073997, 'clip': False, 'C': 32702.95899289908, 'epsilon': 1.2860544728672189e-06, 'gamma': 3.238138009944412}. Best is trial 51 with value: 0.9999964459305609.\n"
     ]
    }
   ],
   "source": [
    "# Define QKMoptuna instance\n",
    "qkm_opt_inst = QKMOptuna(\n",
    "    xtrain = Rtrain,\n",
    "    xtest = Rtest,\n",
    "    ytrain = Etrain,\n",
    "    ytest = Etest,\n",
    "    scaler_method = MinMaxScaler(),\n",
    "    optimize_scaler = True,\n",
    "    label_scaler = MinMaxScaler(feature_range=(0,1)),\n",
    "    quantum_kernel = \"PQK\",\n",
    "    quantum_kernel_method = \"QSVR\",\n",
    "    executor=Executor(\"pennylane\"),\n",
    "    parameter_seed = 0\n",
    ")\n",
    "\n",
    "# Define encoding circuits for which one wants to compute the best models\n",
    "encoding_circuits = [YZ_CX_EncodingCircuit]\n",
    "# Call QKMOptuna's evalate_best_model() method and define parameters as desired\n",
    "qkm_opt_inst.evaluate_best_model(\n",
    "    encoding_circuits=encoding_circuits,\n",
    "    measurement = \"XYZ\",\n",
    "    outer_kernel = \"gaussian\",\n",
    "    num_qubits_max = 10,\n",
    "    num_layers_max = 10,\n",
    "    optuna_sampler = TPESampler(seed=0),\n",
    "    optuna_pruner = None, \n",
    "    n_trials = 100,\n",
    "    outdir = './results_demo_evaluate_best_model/',\n",
    "    file_identifier = '1D_H_adsorption_PEC_alpha_ontop1'\n",
    ")"
   ]
  },
  {
   "cell_type": "markdown",
   "metadata": {},
   "source": [
    "The evaluate_best_model() method of QKMOptuna automatically saves the following intermediate and final simulation results:\n",
    "\n",
    "- For each EncodingCircuit in the list of encoding_circuits, we save the optuna study object to a *.pkl-file\n",
    "- For each EncodingCircuit in the list of encoding_circuits, the optimal circuits out of the optuna study is saved to a *.pkl-file\n",
    "- The final summary is saved as *.csv file, which contains, for each EncodingCircuit:\n",
    "    \n",
    "    - best_params (i.e. num_qubits, num_layers, etc.) determined within optuna optimization\n",
    "    - best_trial (optuna object to resume study)\n",
    "    - best_obj_val\n",
    "    - best_feature_range\n",
    "    - ktrain\n",
    "    - ktesttrain\n",
    "    - ypred_train\n",
    "    - ypred_test\n",
    "    - mse_train\n",
    "    - rmse_train\n",
    "    - mae_train\n",
    "    - r2_train\n",
    "    - mse_test\n",
    "    - rmse_test\n",
    "    - mae_test \n",
    "    - r2_test\n",
    "\n",
    "For classifications tasks we use accuracy_score, roc_auc_score and f1_score instead."
   ]
  },
  {
   "cell_type": "markdown",
   "metadata": {},
   "source": [
    "This is managed within two directories, which were also created by the previous simulation. Take a closer look into their content"
   ]
  },
  {
   "cell_type": "code",
   "execution_count": 37,
   "metadata": {},
   "outputs": [
    {
     "name": "stdout",
     "output_type": "stream",
     "text": [
      "'/cache_optuna_studies_evaluate_best_model/' contains:  ['optimal_circuit_from_optuna_study_evaluate_best_model_QSVR_PQK_YZ_CX_EncodingCircuit_1D_H_adsorption_PEC_alpha_ontop1.pkl', 'optuna_study_evaluate_best_model_QSVR_PQK_YZ_CX_EncodingCircuit_1D_H_adsorption_PEC_alpha_ontop1.pkl']\n",
      "'/results_evaluate_best_model/' contains:  ['results_evaluate_best_model_study_QSVR_PQK_1D_H_adsorption_PEC_alpha_ontop1.csv']\n"
     ]
    }
   ],
   "source": [
    "print(\"'/cache_optuna_studies_evaluate_best_model/' contains: \", os.listdir(\"./results_demo_evaluate_best_model/cache_optuna_studies_evaluate_best_model\") )\n",
    "print(\"'/results_evaluate_best_model/' contains: \", os.listdir(\"results_demo_evaluate_best_model/results_evaluate_best_model/\"))"
   ]
  },
  {
   "cell_type": "markdown",
   "metadata": {},
   "source": [
    "This means .pkl-files are created in a cache directory containing the optimal encoding circuit as well as the complete optuna study itself from which the best model configurations can be extracted. Moreover the optuna study pickle can be used to resume the study and start a new study from there. \n",
    "\n",
    "#### Anaylzing the results\n",
    "\n",
    "We can investigate the importance of hyperparameters by loading the *.pkl-file containing the corresponding Optuna study object and subsequently use Optuna's visualization tools.\n",
    "\n",
    "Recall that within this simulation we optimized the following hyperparameters:\n",
    "\n",
    "- min_range and max_range defining the feature_range in MinMaxScaler(feature_range=(min_range, max_range)) used for feature rescaling as well as therein we should use clip=True/False\n",
    "- num_qubits of YZ_CX_EncodingCircuit\n",
    "- num_layers of YZ_CX_EncodingCircuit\n",
    "- gamma of outer_kernel=\"gaussian\"\n",
    "- epsilon and C, i.e. the QSVR regularization parameters"
   ]
  },
  {
   "cell_type": "code",
   "execution_count": 44,
   "metadata": {},
   "outputs": [],
   "source": [
    "file_study = \"./results_demo_evaluate_best_model/cache_optuna_studies_evaluate_best_model/optuna_study_evaluate_best_model_QSVR_PQK_YZ_CX_EncodingCircuit_1D_H_adsorption_PEC_alpha_ontop1.pkl\"\n",
    "study = joblib.load(file_study)"
   ]
  },
  {
   "cell_type": "code",
   "execution_count": 45,
   "metadata": {},
   "outputs": [
    {
     "data": {
      "application/vnd.plotly.v1+json": {
       "config": {
        "plotlyServerURL": "https://plot.ly"
       },
       "data": [
        {
         "cliponaxis": false,
         "hovertemplate": [
          "clip (CategoricalDistribution): 1.02469357996944e-09<extra></extra>",
          "gamma (FloatDistribution): 0.0007159536357403883<extra></extra>",
          "max_range (FloatDistribution): 0.0032483503730956612<extra></extra>",
          "num_qubits (IntDistribution): 0.015129497848030424<extra></extra>",
          "num_layers (IntDistribution): 0.035842247581296574<extra></extra>",
          "C (FloatDistribution): 0.1843024679542731<extra></extra>",
          "epsilon (FloatDistribution): 0.31247974559116526<extra></extra>",
          "min_range (FloatDistribution): 0.44828173599170507<extra></extra>"
         ],
         "name": "Objective Value",
         "orientation": "h",
         "text": [
          "<0.01",
          "<0.01",
          "<0.01",
          "0.02",
          "0.04",
          "0.18",
          "0.31",
          "0.45"
         ],
         "textposition": "outside",
         "type": "bar",
         "x": [
          1.02469357996944e-9,
          0.0007159536357403883,
          0.0032483503730956612,
          0.015129497848030424,
          0.035842247581296574,
          0.1843024679542731,
          0.31247974559116526,
          0.44828173599170507
         ],
         "y": [
          "clip",
          "gamma",
          "max_range",
          "num_qubits",
          "num_layers",
          "C",
          "epsilon",
          "min_range"
         ]
        }
       ],
       "layout": {
        "template": {
         "data": {
          "bar": [
           {
            "error_x": {
             "color": "#2a3f5f"
            },
            "error_y": {
             "color": "#2a3f5f"
            },
            "marker": {
             "line": {
              "color": "#E5ECF6",
              "width": 0.5
             },
             "pattern": {
              "fillmode": "overlay",
              "size": 10,
              "solidity": 0.2
             }
            },
            "type": "bar"
           }
          ],
          "barpolar": [
           {
            "marker": {
             "line": {
              "color": "#E5ECF6",
              "width": 0.5
             },
             "pattern": {
              "fillmode": "overlay",
              "size": 10,
              "solidity": 0.2
             }
            },
            "type": "barpolar"
           }
          ],
          "carpet": [
           {
            "aaxis": {
             "endlinecolor": "#2a3f5f",
             "gridcolor": "white",
             "linecolor": "white",
             "minorgridcolor": "white",
             "startlinecolor": "#2a3f5f"
            },
            "baxis": {
             "endlinecolor": "#2a3f5f",
             "gridcolor": "white",
             "linecolor": "white",
             "minorgridcolor": "white",
             "startlinecolor": "#2a3f5f"
            },
            "type": "carpet"
           }
          ],
          "choropleth": [
           {
            "colorbar": {
             "outlinewidth": 0,
             "ticks": ""
            },
            "type": "choropleth"
           }
          ],
          "contour": [
           {
            "colorbar": {
             "outlinewidth": 0,
             "ticks": ""
            },
            "colorscale": [
             [
              0,
              "#0d0887"
             ],
             [
              0.1111111111111111,
              "#46039f"
             ],
             [
              0.2222222222222222,
              "#7201a8"
             ],
             [
              0.3333333333333333,
              "#9c179e"
             ],
             [
              0.4444444444444444,
              "#bd3786"
             ],
             [
              0.5555555555555556,
              "#d8576b"
             ],
             [
              0.6666666666666666,
              "#ed7953"
             ],
             [
              0.7777777777777778,
              "#fb9f3a"
             ],
             [
              0.8888888888888888,
              "#fdca26"
             ],
             [
              1,
              "#f0f921"
             ]
            ],
            "type": "contour"
           }
          ],
          "contourcarpet": [
           {
            "colorbar": {
             "outlinewidth": 0,
             "ticks": ""
            },
            "type": "contourcarpet"
           }
          ],
          "heatmap": [
           {
            "colorbar": {
             "outlinewidth": 0,
             "ticks": ""
            },
            "colorscale": [
             [
              0,
              "#0d0887"
             ],
             [
              0.1111111111111111,
              "#46039f"
             ],
             [
              0.2222222222222222,
              "#7201a8"
             ],
             [
              0.3333333333333333,
              "#9c179e"
             ],
             [
              0.4444444444444444,
              "#bd3786"
             ],
             [
              0.5555555555555556,
              "#d8576b"
             ],
             [
              0.6666666666666666,
              "#ed7953"
             ],
             [
              0.7777777777777778,
              "#fb9f3a"
             ],
             [
              0.8888888888888888,
              "#fdca26"
             ],
             [
              1,
              "#f0f921"
             ]
            ],
            "type": "heatmap"
           }
          ],
          "heatmapgl": [
           {
            "colorbar": {
             "outlinewidth": 0,
             "ticks": ""
            },
            "colorscale": [
             [
              0,
              "#0d0887"
             ],
             [
              0.1111111111111111,
              "#46039f"
             ],
             [
              0.2222222222222222,
              "#7201a8"
             ],
             [
              0.3333333333333333,
              "#9c179e"
             ],
             [
              0.4444444444444444,
              "#bd3786"
             ],
             [
              0.5555555555555556,
              "#d8576b"
             ],
             [
              0.6666666666666666,
              "#ed7953"
             ],
             [
              0.7777777777777778,
              "#fb9f3a"
             ],
             [
              0.8888888888888888,
              "#fdca26"
             ],
             [
              1,
              "#f0f921"
             ]
            ],
            "type": "heatmapgl"
           }
          ],
          "histogram": [
           {
            "marker": {
             "pattern": {
              "fillmode": "overlay",
              "size": 10,
              "solidity": 0.2
             }
            },
            "type": "histogram"
           }
          ],
          "histogram2d": [
           {
            "colorbar": {
             "outlinewidth": 0,
             "ticks": ""
            },
            "colorscale": [
             [
              0,
              "#0d0887"
             ],
             [
              0.1111111111111111,
              "#46039f"
             ],
             [
              0.2222222222222222,
              "#7201a8"
             ],
             [
              0.3333333333333333,
              "#9c179e"
             ],
             [
              0.4444444444444444,
              "#bd3786"
             ],
             [
              0.5555555555555556,
              "#d8576b"
             ],
             [
              0.6666666666666666,
              "#ed7953"
             ],
             [
              0.7777777777777778,
              "#fb9f3a"
             ],
             [
              0.8888888888888888,
              "#fdca26"
             ],
             [
              1,
              "#f0f921"
             ]
            ],
            "type": "histogram2d"
           }
          ],
          "histogram2dcontour": [
           {
            "colorbar": {
             "outlinewidth": 0,
             "ticks": ""
            },
            "colorscale": [
             [
              0,
              "#0d0887"
             ],
             [
              0.1111111111111111,
              "#46039f"
             ],
             [
              0.2222222222222222,
              "#7201a8"
             ],
             [
              0.3333333333333333,
              "#9c179e"
             ],
             [
              0.4444444444444444,
              "#bd3786"
             ],
             [
              0.5555555555555556,
              "#d8576b"
             ],
             [
              0.6666666666666666,
              "#ed7953"
             ],
             [
              0.7777777777777778,
              "#fb9f3a"
             ],
             [
              0.8888888888888888,
              "#fdca26"
             ],
             [
              1,
              "#f0f921"
             ]
            ],
            "type": "histogram2dcontour"
           }
          ],
          "mesh3d": [
           {
            "colorbar": {
             "outlinewidth": 0,
             "ticks": ""
            },
            "type": "mesh3d"
           }
          ],
          "parcoords": [
           {
            "line": {
             "colorbar": {
              "outlinewidth": 0,
              "ticks": ""
             }
            },
            "type": "parcoords"
           }
          ],
          "pie": [
           {
            "automargin": true,
            "type": "pie"
           }
          ],
          "scatter": [
           {
            "fillpattern": {
             "fillmode": "overlay",
             "size": 10,
             "solidity": 0.2
            },
            "type": "scatter"
           }
          ],
          "scatter3d": [
           {
            "line": {
             "colorbar": {
              "outlinewidth": 0,
              "ticks": ""
             }
            },
            "marker": {
             "colorbar": {
              "outlinewidth": 0,
              "ticks": ""
             }
            },
            "type": "scatter3d"
           }
          ],
          "scattercarpet": [
           {
            "marker": {
             "colorbar": {
              "outlinewidth": 0,
              "ticks": ""
             }
            },
            "type": "scattercarpet"
           }
          ],
          "scattergeo": [
           {
            "marker": {
             "colorbar": {
              "outlinewidth": 0,
              "ticks": ""
             }
            },
            "type": "scattergeo"
           }
          ],
          "scattergl": [
           {
            "marker": {
             "colorbar": {
              "outlinewidth": 0,
              "ticks": ""
             }
            },
            "type": "scattergl"
           }
          ],
          "scattermapbox": [
           {
            "marker": {
             "colorbar": {
              "outlinewidth": 0,
              "ticks": ""
             }
            },
            "type": "scattermapbox"
           }
          ],
          "scatterpolar": [
           {
            "marker": {
             "colorbar": {
              "outlinewidth": 0,
              "ticks": ""
             }
            },
            "type": "scatterpolar"
           }
          ],
          "scatterpolargl": [
           {
            "marker": {
             "colorbar": {
              "outlinewidth": 0,
              "ticks": ""
             }
            },
            "type": "scatterpolargl"
           }
          ],
          "scatterternary": [
           {
            "marker": {
             "colorbar": {
              "outlinewidth": 0,
              "ticks": ""
             }
            },
            "type": "scatterternary"
           }
          ],
          "surface": [
           {
            "colorbar": {
             "outlinewidth": 0,
             "ticks": ""
            },
            "colorscale": [
             [
              0,
              "#0d0887"
             ],
             [
              0.1111111111111111,
              "#46039f"
             ],
             [
              0.2222222222222222,
              "#7201a8"
             ],
             [
              0.3333333333333333,
              "#9c179e"
             ],
             [
              0.4444444444444444,
              "#bd3786"
             ],
             [
              0.5555555555555556,
              "#d8576b"
             ],
             [
              0.6666666666666666,
              "#ed7953"
             ],
             [
              0.7777777777777778,
              "#fb9f3a"
             ],
             [
              0.8888888888888888,
              "#fdca26"
             ],
             [
              1,
              "#f0f921"
             ]
            ],
            "type": "surface"
           }
          ],
          "table": [
           {
            "cells": {
             "fill": {
              "color": "#EBF0F8"
             },
             "line": {
              "color": "white"
             }
            },
            "header": {
             "fill": {
              "color": "#C8D4E3"
             },
             "line": {
              "color": "white"
             }
            },
            "type": "table"
           }
          ]
         },
         "layout": {
          "annotationdefaults": {
           "arrowcolor": "#2a3f5f",
           "arrowhead": 0,
           "arrowwidth": 1
          },
          "autotypenumbers": "strict",
          "coloraxis": {
           "colorbar": {
            "outlinewidth": 0,
            "ticks": ""
           }
          },
          "colorscale": {
           "diverging": [
            [
             0,
             "#8e0152"
            ],
            [
             0.1,
             "#c51b7d"
            ],
            [
             0.2,
             "#de77ae"
            ],
            [
             0.3,
             "#f1b6da"
            ],
            [
             0.4,
             "#fde0ef"
            ],
            [
             0.5,
             "#f7f7f7"
            ],
            [
             0.6,
             "#e6f5d0"
            ],
            [
             0.7,
             "#b8e186"
            ],
            [
             0.8,
             "#7fbc41"
            ],
            [
             0.9,
             "#4d9221"
            ],
            [
             1,
             "#276419"
            ]
           ],
           "sequential": [
            [
             0,
             "#0d0887"
            ],
            [
             0.1111111111111111,
             "#46039f"
            ],
            [
             0.2222222222222222,
             "#7201a8"
            ],
            [
             0.3333333333333333,
             "#9c179e"
            ],
            [
             0.4444444444444444,
             "#bd3786"
            ],
            [
             0.5555555555555556,
             "#d8576b"
            ],
            [
             0.6666666666666666,
             "#ed7953"
            ],
            [
             0.7777777777777778,
             "#fb9f3a"
            ],
            [
             0.8888888888888888,
             "#fdca26"
            ],
            [
             1,
             "#f0f921"
            ]
           ],
           "sequentialminus": [
            [
             0,
             "#0d0887"
            ],
            [
             0.1111111111111111,
             "#46039f"
            ],
            [
             0.2222222222222222,
             "#7201a8"
            ],
            [
             0.3333333333333333,
             "#9c179e"
            ],
            [
             0.4444444444444444,
             "#bd3786"
            ],
            [
             0.5555555555555556,
             "#d8576b"
            ],
            [
             0.6666666666666666,
             "#ed7953"
            ],
            [
             0.7777777777777778,
             "#fb9f3a"
            ],
            [
             0.8888888888888888,
             "#fdca26"
            ],
            [
             1,
             "#f0f921"
            ]
           ]
          },
          "colorway": [
           "#636efa",
           "#EF553B",
           "#00cc96",
           "#ab63fa",
           "#FFA15A",
           "#19d3f3",
           "#FF6692",
           "#B6E880",
           "#FF97FF",
           "#FECB52"
          ],
          "font": {
           "color": "#2a3f5f"
          },
          "geo": {
           "bgcolor": "white",
           "lakecolor": "white",
           "landcolor": "#E5ECF6",
           "showlakes": true,
           "showland": true,
           "subunitcolor": "white"
          },
          "hoverlabel": {
           "align": "left"
          },
          "hovermode": "closest",
          "mapbox": {
           "style": "light"
          },
          "paper_bgcolor": "white",
          "plot_bgcolor": "#E5ECF6",
          "polar": {
           "angularaxis": {
            "gridcolor": "white",
            "linecolor": "white",
            "ticks": ""
           },
           "bgcolor": "#E5ECF6",
           "radialaxis": {
            "gridcolor": "white",
            "linecolor": "white",
            "ticks": ""
           }
          },
          "scene": {
           "xaxis": {
            "backgroundcolor": "#E5ECF6",
            "gridcolor": "white",
            "gridwidth": 2,
            "linecolor": "white",
            "showbackground": true,
            "ticks": "",
            "zerolinecolor": "white"
           },
           "yaxis": {
            "backgroundcolor": "#E5ECF6",
            "gridcolor": "white",
            "gridwidth": 2,
            "linecolor": "white",
            "showbackground": true,
            "ticks": "",
            "zerolinecolor": "white"
           },
           "zaxis": {
            "backgroundcolor": "#E5ECF6",
            "gridcolor": "white",
            "gridwidth": 2,
            "linecolor": "white",
            "showbackground": true,
            "ticks": "",
            "zerolinecolor": "white"
           }
          },
          "shapedefaults": {
           "line": {
            "color": "#2a3f5f"
           }
          },
          "ternary": {
           "aaxis": {
            "gridcolor": "white",
            "linecolor": "white",
            "ticks": ""
           },
           "baxis": {
            "gridcolor": "white",
            "linecolor": "white",
            "ticks": ""
           },
           "bgcolor": "#E5ECF6",
           "caxis": {
            "gridcolor": "white",
            "linecolor": "white",
            "ticks": ""
           }
          },
          "title": {
           "x": 0.05
          },
          "xaxis": {
           "automargin": true,
           "gridcolor": "white",
           "linecolor": "white",
           "ticks": "",
           "title": {
            "standoff": 15
           },
           "zerolinecolor": "white",
           "zerolinewidth": 2
          },
          "yaxis": {
           "automargin": true,
           "gridcolor": "white",
           "linecolor": "white",
           "ticks": "",
           "title": {
            "standoff": 15
           },
           "zerolinecolor": "white",
           "zerolinewidth": 2
          }
         }
        },
        "title": {
         "text": "Hyperparameter Importances"
        },
        "xaxis": {
         "title": {
          "text": "Hyperparameter Importance"
         }
        },
        "yaxis": {
         "title": {
          "text": "Hyperparameter"
         }
        }
       }
      }
     },
     "metadata": {},
     "output_type": "display_data"
    }
   ],
   "source": [
    "from optuna.visualization import plot_param_importances\n",
    "plot_param_importances(study)"
   ]
  },
  {
   "cell_type": "markdown",
   "metadata": {},
   "source": [
    "For the sake of generating a large database of quantum kernel experiments, all final results are saved as *.csv file."
   ]
  },
  {
   "cell_type": "code",
   "execution_count": 47,
   "metadata": {},
   "outputs": [
    {
     "data": {
      "text/html": [
       "<div>\n",
       "<style scoped>\n",
       "    .dataframe tbody tr th:only-of-type {\n",
       "        vertical-align: middle;\n",
       "    }\n",
       "\n",
       "    .dataframe tbody tr th {\n",
       "        vertical-align: top;\n",
       "    }\n",
       "\n",
       "    .dataframe thead th {\n",
       "        text-align: right;\n",
       "    }\n",
       "</style>\n",
       "<table border=\"1\" class=\"dataframe\">\n",
       "  <thead>\n",
       "    <tr style=\"text-align: right;\">\n",
       "      <th></th>\n",
       "      <th>Unnamed: 0</th>\n",
       "      <th>encoding_circuit</th>\n",
       "      <th>best_params</th>\n",
       "      <th>best_trial</th>\n",
       "      <th>best_obj_val</th>\n",
       "      <th>best_feature_range</th>\n",
       "      <th>ktrain</th>\n",
       "      <th>ktesttrain</th>\n",
       "      <th>ypred_train</th>\n",
       "      <th>ypred_test</th>\n",
       "      <th>mse_train</th>\n",
       "      <th>rmse_train</th>\n",
       "      <th>mae_train</th>\n",
       "      <th>r2_train</th>\n",
       "      <th>mse_test</th>\n",
       "      <th>rmse_test</th>\n",
       "      <th>mae_test</th>\n",
       "      <th>r2_test</th>\n",
       "    </tr>\n",
       "  </thead>\n",
       "  <tbody>\n",
       "    <tr>\n",
       "      <th>0</th>\n",
       "      <td>0</td>\n",
       "      <td>YZ_CX_EncodingCircuit</td>\n",
       "      <td>{'num_qubits': 1, 'num_layers': 2, 'min_range'...</td>\n",
       "      <td>FrozenTrial(number=51, state=TrialState.COMPLE...</td>\n",
       "      <td>0.999996</td>\n",
       "      <td>(-0.0761932689255125, 1.493420842475225)</td>\n",
       "      <td>[[1.00000000e+00 1.34903672e-04 6.93052636e-10...</td>\n",
       "      <td>[[3.41623161e-09 3.47830962e-07 2.84853776e-03...</td>\n",
       "      <td>[[-205.44251779]\\n [-207.41105589]\\n [-206.586...</td>\n",
       "      <td>[[-206.3208708 ]\\n [-207.9922776 ]\\n [-207.043...</td>\n",
       "      <td>0.000007</td>\n",
       "      <td>0.002686</td>\n",
       "      <td>0.002274</td>\n",
       "      <td>0.999997</td>\n",
       "      <td>0.000007</td>\n",
       "      <td>0.002711</td>\n",
       "      <td>0.00235</td>\n",
       "      <td>0.999995</td>\n",
       "    </tr>\n",
       "  </tbody>\n",
       "</table>\n",
       "</div>"
      ],
      "text/plain": [
       "   Unnamed: 0       encoding_circuit  \\\n",
       "0           0  YZ_CX_EncodingCircuit   \n",
       "\n",
       "                                         best_params  \\\n",
       "0  {'num_qubits': 1, 'num_layers': 2, 'min_range'...   \n",
       "\n",
       "                                          best_trial  best_obj_val  \\\n",
       "0  FrozenTrial(number=51, state=TrialState.COMPLE...      0.999996   \n",
       "\n",
       "                         best_feature_range  \\\n",
       "0  (-0.0761932689255125, 1.493420842475225)   \n",
       "\n",
       "                                              ktrain  \\\n",
       "0  [[1.00000000e+00 1.34903672e-04 6.93052636e-10...   \n",
       "\n",
       "                                          ktesttrain  \\\n",
       "0  [[3.41623161e-09 3.47830962e-07 2.84853776e-03...   \n",
       "\n",
       "                                         ypred_train  \\\n",
       "0  [[-205.44251779]\\n [-207.41105589]\\n [-206.586...   \n",
       "\n",
       "                                          ypred_test  mse_train  rmse_train  \\\n",
       "0  [[-206.3208708 ]\\n [-207.9922776 ]\\n [-207.043...   0.000007    0.002686   \n",
       "\n",
       "   mae_train  r2_train  mse_test  rmse_test  mae_test   r2_test  \n",
       "0   0.002274  0.999997  0.000007   0.002711   0.00235  0.999995  "
      ]
     },
     "execution_count": 47,
     "metadata": {},
     "output_type": "execute_result"
    }
   ],
   "source": [
    "df = pd.read_csv(\"./results_demo_evaluate_best_model/results_evaluate_best_model/results_evaluate_best_model_study_QSVR_PQK_1D_H_adsorption_PEC_alpha_ontop1.csv\")\n",
    "df"
   ]
  },
  {
   "cell_type": "markdown",
   "metadata": {},
   "source": [
    "#### Run KTA within the pipeline\n",
    "\n",
    "We can use the previously determined best quantum kernel model based on the YZ_CX_EncodingCircuit to optimize the trainable parameters in this feature map using KTA. To this end, we use the current state of the qkm_opt_inst"
   ]
  },
  {
   "cell_type": "code",
   "execution_count": 50,
   "metadata": {},
   "outputs": [
    {
     "name": "stdout",
     "output_type": "stream",
     "text": [
      "[0.80132351 0.88272066 0.21827963 0.28200936]\n"
     ]
    },
    {
     "data": {
      "text/plain": [
       "<pipeline.pipeline_modified.QKMOptuna at 0x1ea4e16feb0>"
      ]
     },
     "execution_count": 50,
     "metadata": {},
     "output_type": "execute_result"
    }
   ],
   "source": [
    "from squlearn.optimizers import Adam\n",
    "adam = Adam(options={\"maxiter\": 50, \"lr\":0.01})\n",
    "qkm_opt_inst.run_quantum_kernel_optimization(adam)"
   ]
  },
  {
   "cell_type": "code",
   "execution_count": 51,
   "metadata": {},
   "outputs": [
    {
     "name": "stderr",
     "output_type": "stream",
     "text": [
      "[I 2024-05-08 16:53:30,956] A new study created in memory with name: no-name-69fe261d-8cfc-4e16-bce8-c86e5f88001b\n",
      "[I 2024-05-08 16:53:31,540] Trial 0 finished with value: 0.999993775609448 and parameters: {'C': 7773.657555376826, 'epsilon': 3.691684401357102e-08, 'gamma': 56.34711619484347}. Best is trial 0 with value: 0.999993775609448.\n",
      "[I 2024-05-08 16:53:31,840] Trial 1 finished with value: 0.9932753168660305 and parameters: {'C': 16494.482339392038, 'epsilon': 0.01092529121222421, 'gamma': 19.14013680197427}. Best is trial 0 with value: 0.999993775609448.\n",
      "[I 2024-05-08 16:53:33,761] Trial 2 finished with value: 0.9987842239323127 and parameters: {'C': 436.1404865562257, 'epsilon': 3.090053349179177e-08, 'gamma': 1.2769632527667107}. Best is trial 0 with value: 0.999993775609448.\n",
      "[I 2024-05-08 16:53:34,053] Trial 3 finished with value: 0.7337997409725026 and parameters: {'C': 0.40367307673696384, 'epsilon': 0.06270123705467934, 'gamma': 56.731080556541436}. Best is trial 0 with value: 0.999993775609448.\n",
      "[I 2024-05-08 16:53:35,124] Trial 4 finished with value: 0.9999960633621503 and parameters: {'C': 795.5458990026285, 'epsilon': 5.387672995870271e-06, 'gamma': 14.073625395888397}. Best is trial 4 with value: 0.9999960633621503.\n",
      "[I 2024-05-08 16:53:35,427] Trial 5 finished with value: 0.3328672048348145 and parameters: {'C': 6.557114808821027, 'epsilon': 8.84450156514621e-08, 'gamma': 0.0765727939492348}. Best is trial 4 with value: 0.9999960633621503.\n",
      "[I 2024-05-08 16:53:57,091] Trial 6 finished with value: 0.999990246953802 and parameters: {'C': 3042.9292482867186, 'epsilon': 1.22178538885494e-08, 'gamma': 6.158565774941542}. Best is trial 4 with value: 0.9999960633621503.\n",
      "[I 2024-05-08 16:53:57,383] Trial 7 finished with value: 0.9410530062428333 and parameters: {'C': 2.1503976953626496, 'epsilon': 0.030272464350194938, 'gamma': 21.149892636655302}. Best is trial 4 with value: 0.9999960633621503.\n",
      "[I 2024-05-08 16:53:57,676] Trial 8 finished with value: 0.9977455347870794 and parameters: {'C': 2.670929902345521, 'epsilon': 0.004789153668491155, 'gamma': 64.24381215960707}. Best is trial 4 with value: 0.9999960633621503.\n",
      "[I 2024-05-08 16:53:59,016] Trial 9 finished with value: 0.9993373735235902 and parameters: {'C': 103.85601925101442, 'epsilon': 1.1429506082347221e-07, 'gamma': 3.1417539390506506}. Best is trial 4 with value: 0.9999960633621503.\n"
     ]
    }
   ],
   "source": [
    "qkm_opt_inst.evaluate_model_from_optimized_qkernel(n_trials=10, outdir='./results_demo_evaluate_best_model/', file_identifier='1D_H_adsorption_PEC_alpha_ontop1_KTA')"
   ]
  },
  {
   "cell_type": "code",
   "execution_count": 52,
   "metadata": {},
   "outputs": [
    {
     "data": {
      "text/html": [
       "<div>\n",
       "<style scoped>\n",
       "    .dataframe tbody tr th:only-of-type {\n",
       "        vertical-align: middle;\n",
       "    }\n",
       "\n",
       "    .dataframe tbody tr th {\n",
       "        vertical-align: top;\n",
       "    }\n",
       "\n",
       "    .dataframe thead th {\n",
       "        text-align: right;\n",
       "    }\n",
       "</style>\n",
       "<table border=\"1\" class=\"dataframe\">\n",
       "  <thead>\n",
       "    <tr style=\"text-align: right;\">\n",
       "      <th></th>\n",
       "      <th>Unnamed: 0</th>\n",
       "      <th>optimal_parameters</th>\n",
       "      <th>ktrain_opt_only</th>\n",
       "      <th>ktesttrain_opt_only</th>\n",
       "      <th>best_optuna_params_new</th>\n",
       "      <th>best_feature_range</th>\n",
       "      <th>ktrain_opt_and_optuna</th>\n",
       "      <th>ktesttrain_opt_and_optuna</th>\n",
       "      <th>mse_test_opt_only</th>\n",
       "      <th>rmse_test_opt_only</th>\n",
       "      <th>mae_test_opt_only</th>\n",
       "      <th>r2_test_opt_only</th>\n",
       "      <th>mse_test_opt_and_optuna</th>\n",
       "      <th>rmse_test_opt_and_optuna</th>\n",
       "      <th>mae_test_opt_and_optuna</th>\n",
       "      <th>r2_test_opt_and_optuna</th>\n",
       "    </tr>\n",
       "  </thead>\n",
       "  <tbody>\n",
       "    <tr>\n",
       "      <th>0</th>\n",
       "      <td>0</td>\n",
       "      <td>[0.80132351 0.88272066 0.21827963 0.28200936]</td>\n",
       "      <td>[[1.00000000e+00 1.34903672e-04 6.93052636e-10...</td>\n",
       "      <td>[[3.41623161e-09 3.47830962e-07 2.84853776e-03...</td>\n",
       "      <td>{'C': 795.5458990026285, 'epsilon': 5.38767299...</td>\n",
       "      <td>(-0.0761932689255125, 1.493420842475225)</td>\n",
       "      <td>[[1.00000000e+00 1.91419985e-03 3.69118820e-07...</td>\n",
       "      <td>[[1.13169484e-06 2.90997058e-05 1.63040896e-02...</td>\n",
       "      <td>0.000007</td>\n",
       "      <td>0.002711</td>\n",
       "      <td>0.00235</td>\n",
       "      <td>0.999995</td>\n",
       "      <td>0.000005</td>\n",
       "      <td>0.002314</td>\n",
       "      <td>0.001903</td>\n",
       "      <td>0.999997</td>\n",
       "    </tr>\n",
       "  </tbody>\n",
       "</table>\n",
       "</div>"
      ],
      "text/plain": [
       "   Unnamed: 0                             optimal_parameters  \\\n",
       "0           0  [0.80132351 0.88272066 0.21827963 0.28200936]   \n",
       "\n",
       "                                     ktrain_opt_only  \\\n",
       "0  [[1.00000000e+00 1.34903672e-04 6.93052636e-10...   \n",
       "\n",
       "                                 ktesttrain_opt_only  \\\n",
       "0  [[3.41623161e-09 3.47830962e-07 2.84853776e-03...   \n",
       "\n",
       "                              best_optuna_params_new  \\\n",
       "0  {'C': 795.5458990026285, 'epsilon': 5.38767299...   \n",
       "\n",
       "                         best_feature_range  \\\n",
       "0  (-0.0761932689255125, 1.493420842475225)   \n",
       "\n",
       "                               ktrain_opt_and_optuna  \\\n",
       "0  [[1.00000000e+00 1.91419985e-03 3.69118820e-07...   \n",
       "\n",
       "                           ktesttrain_opt_and_optuna  mse_test_opt_only  \\\n",
       "0  [[1.13169484e-06 2.90997058e-05 1.63040896e-02...           0.000007   \n",
       "\n",
       "   rmse_test_opt_only  mae_test_opt_only  r2_test_opt_only  \\\n",
       "0            0.002711            0.00235          0.999995   \n",
       "\n",
       "   mse_test_opt_and_optuna  rmse_test_opt_and_optuna  mae_test_opt_and_optuna  \\\n",
       "0                 0.000005                  0.002314                 0.001903   \n",
       "\n",
       "   r2_test_opt_and_optuna  \n",
       "0                0.999997  "
      ]
     },
     "execution_count": 52,
     "metadata": {},
     "output_type": "execute_result"
    }
   ],
   "source": [
    "df_opt =  pd.read_csv(\"./results_demo_evaluate_best_model/results_evaluate_model_from_optimized_qkernel/results_evaluate_model_from_optimized_qkernel_QSVR_PQK_1D_H_adsorption_PEC_alpha_ontop1_KTA.csv\")\n",
    "df_opt"
   ]
  },
  {
   "cell_type": "markdown",
   "metadata": {},
   "source": [
    "### Sophisticated grid search\n",
    "\n",
    "In order to systematically analyze and compare quantum kernel methods as well as providing general design advices, ideally an extensive quantum kernel study is required, which considers many different datasets and different encoding circuits - in the spirit of Ref. [5]. To this end, QKMOptuna provides the evaluate_grid() method, which \n",
    "\n",
    "- for each circuit within a list of encoding_circuits sets up a predefined grid to consider different num_qubits and num_layer configurations and for each configuration performs a hyperparameter search to determine\n",
    "\n",
    "    - hyperparameters of the quantum kernel method \n",
    "    - hyperparameters of PQKs (e.g. $\\gamma$ for gaussian kernel)\n",
    "    - for given feature preprocessing routine (e.g. MinMaxScaler) optimize it's configuration (i.e., e.g. feature_range)"
   ]
  },
  {
   "cell_type": "markdown",
   "metadata": {},
   "source": [
    "The evaluate_grid() method automatically saves the followig intermediate and final results:\n",
    "\n",
    "- Optuna study object as *.pkl file for each encoding circuit and each (num_qubits, num_layers)-configuration\n",
    "- Best trial optuna object as *.pkl file for each encoding circuit within given (num_qubits, num_layers)-grid corresponding to setting with highest R2-score on test data\n",
    "- Accordingly, corresponding EncodingCircuit sQUlearn object as *.pkl-file\n",
    "- Kernel matrices for each encoding circuit and each (num_qubits, num_layers)-configuration after optuna optimization in a *csv-file\n",
    "- A final summary is saved as *.csv file, which contains, for each EncodingCircuit:\n",
    "\n",
    "    - best_param_mat\n",
    "    - best_trial_mat\n",
    "    - best_objective_value_mat\n",
    "    - feature_range_mat\n",
    "    - mse_train_mat \n",
    "    - rmse_train_mat\n",
    "    - mae_train_mat\n",
    "    - r2_train_mat\n",
    "    - mse_test_mat\n",
    "    - rmse_test_mat\n",
    "    - mae_test_mat\n",
    "    - r2_test_mat\n",
    "\n",
    "For classifications tasks we use accuracy_score, roc_auc_score and f1_score instead\n",
    "\n",
    "To use the evaluate_grid() method of the QKMOptuna pipeline, we just provide the corresponding code but, for the sake of runtime, do not execute them. We would rather like to show how to use and analyze the generated results."
   ]
  },
  {
   "cell_type": "markdown",
   "metadata": {},
   "source": [
    "#### Results: 1D H-adsorption PEC (alpha, on-top1)\n",
    "\n",
    "Here, we use the 1D H-adsorption PEC dataset for alpha-ontop1 configuration (cf. Fig. 4) and execute the evaluate_grid() method for both FQK and PQK using QKRR.\n",
    "\n",
    "##### Imports and data loading"
   ]
  },
  {
   "cell_type": "code",
   "execution_count": 11,
   "metadata": {},
   "outputs": [],
   "source": [
    "import numpy as np\n",
    "import pandas as pd\n",
    "import seaborn as sb\n",
    "import matplotlib.pyplot as plt\n",
    "\n",
    "from sklearn.model_selection import train_test_split\n",
    "from sklearn.preprocessing import MinMaxScaler\n",
    "\n",
    "from squlearn import Executor\n",
    "from squlearn.encoding_circuit import YZ_CX_EncodingCircuit\n",
    "\n",
    "from pipeline.tools import get_1D_pes_from_xls"
   ]
  },
  {
   "cell_type": "markdown",
   "metadata": {},
   "source": [
    "For the sake of demonstration purposes, in the following we restrict ourselves to the YZ_CX_EncodingCircuit only. So does the following code snippet, which is given for FQK.\n",
    "\n",
    "First we load the data"
   ]
  },
  {
   "cell_type": "code",
   "execution_count": 9,
   "metadata": {},
   "outputs": [],
   "source": [
    "# load 1D-PEC H adsorption data for alpha structure\n",
    "file_1D_alpha = './data/alpha-potential_curve.xlsx'\n",
    "data_alpha = get_1D_pes_from_xls(file_1D_alpha)\n",
    "\n",
    "# restrict ourselves to on-top1 configuration\n",
    "R_ontop1 = data_alpha[0][:,0]\n",
    "E_ontop1 = data_alpha[0][:,1]\n",
    "\n",
    "# perform train-test split\n",
    "Rtrain, Rtest, Etrain, Etest = train_test_split(\n",
    "    R_ontop1,\n",
    "    E_ontop1,\n",
    "    test_size=0.2,\n",
    "    random_state=43\n",
    ")\n",
    "Rtrain = Rtrain.reshape(-1,1)\n",
    "Rtest = Rtest.reshape(-1,1)\n",
    "Etrain = Etrain.reshape(-1,1)\n",
    "Etest = Etest.reshape(-1,1)"
   ]
  },
  {
   "cell_type": "markdown",
   "metadata": {},
   "source": [
    "##### How to set up the method"
   ]
  },
  {
   "cell_type": "markdown",
   "metadata": {},
   "source": [
    "QKMOptuna is initilized such that \n",
    "\n",
    "- a given feature preprocessing is used and no optimization of the scaler is performed\n",
    "- we further rescale the labels using MinMaxScaler()\n",
    "\n",
    "Here one can also use different scalers for both features and labels and can additionally optimize the respective feature preproccesing method. Moreover, one can change the quantum_kernel and quantum_kernel_method parameters.\n",
    "\n",
    "To finally call the evaluate_grid() method one has to specify the encoding_circuits upon which one builds a grid. This grid is defined by the layer_list and qubit list arguments. Beyond that, QKMOptuna allows for different PQK settings (i.e. differemt measurement and outer_kernel attributes).\n",
    "\n",
    "For FQKs one merely has to change the quantum_kernel parameter in the code example below."
   ]
  },
  {
   "cell_type": "code",
   "execution_count": null,
   "metadata": {},
   "outputs": [],
   "source": [
    "# Define the QKMOptuna instance. \n",
    "qkm_inst = QKMOptuna(\n",
    "    xtrain=Rtrain,\n",
    "    xtest=Rtest,\n",
    "    ytrain=Etrain,\n",
    "    ytest=Etest,\n",
    "    scaler_method=MinMaxScaler(feature_range=(-np.pi/2., np.pi/2.)), # use predfined scaler for features and do not optimize it\n",
    "    optimize_scaler=False,\n",
    "    label_scaler=MinMaxScaler(), # note, we rescale labels\n",
    "    quantum_kernel=\"PQK\",\n",
    "    quantum_kernel_method=\"QKRR\",\n",
    "    executor=Executor(\"pennylane\"),\n",
    "    parameter_seed=0\n",
    ")\n",
    "\n",
    "# Define the grid search ranges\n",
    "encoding_circuits = [YZ_CX_EncodingCircuit]\n",
    "layer_list = [1,2,3,4,5,6,7,8]\n",
    "qubit_list = [1,2,3,4,5,6,7,8]\n",
    "# set up the evaluate_grid() method\n",
    "qkm_inst.evaluate_grid(\n",
    "    encoding_circuits=encoding_circuits,\n",
    "    measurement=\"XYZ\",\n",
    "    outer_kernel=\"gaussian\",\n",
    "    qubits_list=qubit_list,\n",
    "    layers_list=layer_list,\n",
    "    optuna_sampler=TPESampler(seed=0),\n",
    "    n_trials=50,\n",
    "    outdir=\"./results_1D/\",\n",
    "    file_identifier=\"1d_h_adsorption_pec\"\n",
    ")"
   ]
  },
  {
   "cell_type": "markdown",
   "metadata": {},
   "source": [
    " The evalute_grid() method of QKMOptuna automatically saves many intermediate as well as final simulation results. This is useful for various post-processing analyses as well as for subsequent studies. Moreover, saving Optuna study objects allows to resume a study. The following shows the format of final simulation results and how to further process and analyze them."
   ]
  },
  {
   "cell_type": "code",
   "execution_count": 14,
   "metadata": {},
   "outputs": [
    {
     "data": {
      "text/html": [
       "<div>\n",
       "<style scoped>\n",
       "    .dataframe tbody tr th:only-of-type {\n",
       "        vertical-align: middle;\n",
       "    }\n",
       "\n",
       "    .dataframe tbody tr th {\n",
       "        vertical-align: top;\n",
       "    }\n",
       "\n",
       "    .dataframe thead th {\n",
       "        text-align: right;\n",
       "    }\n",
       "</style>\n",
       "<table border=\"1\" class=\"dataframe\">\n",
       "  <thead>\n",
       "    <tr style=\"text-align: right;\">\n",
       "      <th></th>\n",
       "      <th>Unnamed: 0</th>\n",
       "      <th>encoding_circuit</th>\n",
       "      <th>best_trial_mat</th>\n",
       "      <th>best_objective_value_mat</th>\n",
       "      <th>feature_range_mat</th>\n",
       "      <th>mse_train_mat</th>\n",
       "      <th>rmse_train_mat</th>\n",
       "      <th>mae_train_mat</th>\n",
       "      <th>r2_train_mat</th>\n",
       "      <th>mse_test_mat</th>\n",
       "      <th>rmse_test_mat</th>\n",
       "      <th>mae_test_mat</th>\n",
       "      <th>r2_test_mat</th>\n",
       "    </tr>\n",
       "  </thead>\n",
       "  <tbody>\n",
       "    <tr>\n",
       "      <th>0</th>\n",
       "      <td>0</td>\n",
       "      <td>YZ_CX_EncodingCircuit</td>\n",
       "      <td>[[FrozenTrial(number=38, state=TrialState.COMP...</td>\n",
       "      <td>[[0.15851851 0.37109932 0.44075027 0.27201005 ...</td>\n",
       "      <td>[[(-1.5707963267948966, 1.5707963267948966)\\n ...</td>\n",
       "      <td>[[1.85160870e+00 1.26430701e+00 1.18339727e+00...</td>\n",
       "      <td>[[1.36073829e+00 1.12441407e+00 1.08784065e+00...</td>\n",
       "      <td>[[6.64082207e-01 7.87502924e-01 6.91405141e-01...</td>\n",
       "      <td>[[0.15449832 0.4226784  0.45962429 0.31818107 ...</td>\n",
       "      <td>[[1.32794490e+00 1.00226454e+00 8.66636022e-01...</td>\n",
       "      <td>[[1.15236492e+00 1.00113163e+00 9.30932877e-01...</td>\n",
       "      <td>[[6.57682739e-01 7.27036397e-01 6.47748563e-01...</td>\n",
       "      <td>[[0.18396243 0.3840968  0.46744209 0.4027917  ...</td>\n",
       "    </tr>\n",
       "  </tbody>\n",
       "</table>\n",
       "</div>"
      ],
      "text/plain": [
       "   Unnamed: 0       encoding_circuit  \\\n",
       "0           0  YZ_CX_EncodingCircuit   \n",
       "\n",
       "                                      best_trial_mat  \\\n",
       "0  [[FrozenTrial(number=38, state=TrialState.COMP...   \n",
       "\n",
       "                            best_objective_value_mat  \\\n",
       "0  [[0.15851851 0.37109932 0.44075027 0.27201005 ...   \n",
       "\n",
       "                                   feature_range_mat  \\\n",
       "0  [[(-1.5707963267948966, 1.5707963267948966)\\n ...   \n",
       "\n",
       "                                       mse_train_mat  \\\n",
       "0  [[1.85160870e+00 1.26430701e+00 1.18339727e+00...   \n",
       "\n",
       "                                      rmse_train_mat  \\\n",
       "0  [[1.36073829e+00 1.12441407e+00 1.08784065e+00...   \n",
       "\n",
       "                                       mae_train_mat  \\\n",
       "0  [[6.64082207e-01 7.87502924e-01 6.91405141e-01...   \n",
       "\n",
       "                                        r2_train_mat  \\\n",
       "0  [[0.15449832 0.4226784  0.45962429 0.31818107 ...   \n",
       "\n",
       "                                        mse_test_mat  \\\n",
       "0  [[1.32794490e+00 1.00226454e+00 8.66636022e-01...   \n",
       "\n",
       "                                       rmse_test_mat  \\\n",
       "0  [[1.15236492e+00 1.00113163e+00 9.30932877e-01...   \n",
       "\n",
       "                                        mae_test_mat  \\\n",
       "0  [[6.57682739e-01 7.27036397e-01 6.47748563e-01...   \n",
       "\n",
       "                                         r2_test_mat  \n",
       "0  [[0.18396243 0.3840968  0.46744209 0.4027917  ...  "
      ]
     },
     "execution_count": 14,
     "metadata": {},
     "output_type": "execute_result"
    }
   ],
   "source": [
    "df_1D_fqk_qkrr = pd.read_csv(\"results_1D/fqk_qkrr/results_evaluate_grid/results_evaluate_grid_study_QKRR_FQK_1d_h_adsorption_pec.csv\")\n",
    "df_1D_pqk_qkrr = pd.read_csv(\"results_1D/pqk_qkrr/results_evaluate_grid/results_evaluate_grid_study_QKRR_PQK_1d_h_adsorption_pec_alpha_ontop1.csv\")\n",
    "df_1D_fqk_qkrr"
   ]
  },
  {
   "cell_type": "markdown",
   "metadata": {},
   "source": [
    "##### Analysis"
   ]
  },
  {
   "cell_type": "code",
   "execution_count": 17,
   "metadata": {},
   "outputs": [],
   "source": [
    "from pipeline.tools import matrix_of_best_param_dicts_to_numpy_tensor, pandas_matrix_to_numpy_array"
   ]
  },
  {
   "cell_type": "markdown",
   "metadata": {},
   "source": [
    "Let us plot the results corresponding to this exemplatory study based on the YZ_CX_EncodingCircuit for FQKs"
   ]
  },
  {
   "cell_type": "code",
   "execution_count": 18,
   "metadata": {},
   "outputs": [
    {
     "data": {
      "image/png": "[encoded data removed]",
      "text/plain": [
       "<Figure size 2000x500 with 6 Axes>"
      ]
     },
     "metadata": {},
     "output_type": "display_data"
    }
   ],
   "source": [
    "qubit_list = list(np.arange(1,9))\n",
    "layer_list = list(np.arange(1,9))\n",
    "\n",
    "\n",
    "mat_r2_fqk = pandas_matrix_to_numpy_array(df_1D_fqk_qkrr, 0, \"r2_test_mat\", qubit_list, layer_list)\n",
    "mat_best_obj_fqk = pandas_matrix_to_numpy_array(df_1D_fqk_qkrr, 0, \"best_objective_value_mat\", qubit_list, layer_list)\n",
    "mat_alpha_fqk = matrix_of_best_param_dicts_to_numpy_tensor(df_1D_fqk_qkrr, 0, qubit_list, layer_list)[0, :, :]\n",
    "\n",
    "fig, axes = plt.subplots(nrows=1, ncols=3, figsize=(20,5))\n",
    "axes[0].set_title(\"R2(test) for FQK\")\n",
    "sb.heatmap(mat_r2_fqk, annot=True, xticklabels=layer_list, yticklabels=qubit_list, cmap='viridis', fmt='.3g', ax=axes[0])\n",
    "axes[1].set_title(\"mean CV-score(train) for FQK\")\n",
    "sb.heatmap(mat_best_obj_fqk, annot=True, xticklabels=layer_list, yticklabels=qubit_list, cmap='viridis', fmt='.3g', ax=axes[1])\n",
    "axes[2].set_title(\"optimal alpha for FQK\")\n",
    "sb.heatmap(mat_alpha_fqk, annot=True, xticklabels=layer_list, yticklabels=qubit_list, cmap='viridis', ax=axes[2])\n",
    "\n",
    "plt.xlabel(\"num_layers\")\n",
    "plt.ylabel(\"num_qubits\")\n",
    "plt.show()"
   ]
  },
  {
   "cell_type": "markdown",
   "metadata": {},
   "source": [
    "Now the same plots for PQK based on the YZ_CX_EncodingCircuit. Note that for PQKs we also optimize the gamma hyperparameter of the gaussian outer_kernel."
   ]
  },
  {
   "cell_type": "code",
   "execution_count": 19,
   "metadata": {},
   "outputs": [
    {
     "data": {
      "image/png": "[encoded data removed]",
      "text/plain": [
       "<Figure size 1500x1500 with 8 Axes>"
      ]
     },
     "metadata": {},
     "output_type": "display_data"
    }
   ],
   "source": [
    "mat_r2_pqk = pandas_matrix_to_numpy_array(df_1D_pqk_qkrr, 0, \"r2_test_mat\", qubit_list, layer_list)\n",
    "mat_best_obj_pqk = pandas_matrix_to_numpy_array(df_1D_pqk_qkrr, 0, \"best_objective_value_mat\", qubit_list, layer_list)\n",
    "mat_alpha_pqk = matrix_of_best_param_dicts_to_numpy_tensor(df_1D_pqk_qkrr, 0, qubit_list, layer_list)[0, :, :]\n",
    "mat_gamma_pqk = matrix_of_best_param_dicts_to_numpy_tensor(df_1D_pqk_qkrr, 0, qubit_list, layer_list)[1, :, :]\n",
    "\n",
    "fig, axes_pqk = plt.subplots(nrows=2, ncols=2, figsize=(15,15))\n",
    "axes_pqk = axes_pqk.flatten()\n",
    "\n",
    "axes_pqk[0].set_title(\"R2(test) for PQK\")\n",
    "sb.heatmap(mat_r2_pqk, annot=True, xticklabels=layer_list, yticklabels=qubit_list, cmap='viridis', fmt='.3g', ax=axes_pqk[0])\n",
    "axes_pqk[1].set_title(\"mean CV-score(train) for PQK\")\n",
    "sb.heatmap(mat_best_obj_pqk, annot=True, xticklabels=layer_list, yticklabels=qubit_list, cmap='viridis', fmt='.3g', ax=axes_pqk[1])\n",
    "axes_pqk[2].set_title(\"optimal alpha for PQK\")\n",
    "sb.heatmap(mat_alpha_pqk, annot=True, xticklabels=layer_list, yticklabels=qubit_list, cmap='viridis', ax=axes_pqk[2])\n",
    "axes_pqk[3].set_title(\"optimal gamma for PQK\")\n",
    "sb.heatmap(mat_gamma_pqk, annot=True, xticklabels=layer_list, yticklabels=qubit_list, cmap='viridis', ax=axes_pqk[3])\n",
    "\n",
    "plt.xlabel(\"num_layers\")\n",
    "plt.ylabel(\"num_qubits\")\n",
    "plt.show()"
   ]
  },
  {
   "cell_type": "markdown",
   "metadata": {},
   "source": [
    "All in all these results suggest that the corresponding 1D PEC dataset is too simple to reasonably study quantum kernel methods systematically"
   ]
  },
  {
   "cell_type": "markdown",
   "metadata": {},
   "source": [
    "##### Analyze the importance of hyperparameters"
   ]
  },
  {
   "cell_type": "code",
   "execution_count": 5,
   "metadata": {},
   "outputs": [],
   "source": [
    "import joblib\n",
    "from optuna.visualization import plot_param_importances"
   ]
  },
  {
   "cell_type": "markdown",
   "metadata": {},
   "source": [
    "Analyze the hyperparameter importance only for PQK as within evaluate_grid() we only optimize $\\alpha$ (the KRR regularization parameter) for FQK"
   ]
  },
  {
   "cell_type": "code",
   "execution_count": 3,
   "metadata": {},
   "outputs": [
    {
     "name": "stdout",
     "output_type": "stream",
     "text": [
      "The 'optimal' number of qubits here: num_qubits= 4\n",
      "The 'optimal' number of layers here: num_layers= 6\n"
     ]
    }
   ],
   "source": [
    "# Load the optuna study object corresponding to the \"optimal\" (in the sensse of highest r2-score on test-data) quantum kernel model and the \"optimal\" encoding circuit\n",
    "file_circ_opt = \"./results_1D/pqk_qkrr/cache_optuna_studies_evaluate_grid/optimal/optimal_YZ_CX_EncodingCircuit_from_evaluate_grid_1d_h_adsorption_pec_alpha_ontop1.pkl\"\n",
    "\n",
    "circ_opt = joblib.load(file_circ_opt)\n",
    "circ_opt.get_params()\n",
    "print(\"The 'optimal' number of qubits here: num_qubits=\", circ_opt.get_params()[\"num_qubits\"])\n",
    "print(\"The 'optimal' number of layers here: num_layers=\", circ_opt.get_params()[\"num_layers\"])"
   ]
  },
  {
   "cell_type": "code",
   "execution_count": 4,
   "metadata": {},
   "outputs": [
    {
     "data": {
      "application/vnd.plotly.v1+json": {
       "config": {
        "plotlyServerURL": "https://plot.ly"
       },
       "data": [
        {
         "cliponaxis": false,
         "hovertemplate": [
          "gamma (FloatDistribution): 0.3973363617338395<extra></extra>",
          "alpha (FloatDistribution): 0.6026636382661605<extra></extra>"
         ],
         "name": "Objective Value",
         "orientation": "h",
         "text": [
          "0.40",
          "0.60"
         ],
         "textposition": "outside",
         "type": "bar",
         "x": [
          0.3973363617338395,
          0.6026636382661605
         ],
         "y": [
          "gamma",
          "alpha"
         ]
        }
       ],
       "layout": {
        "template": {
         "data": {
          "bar": [
           {
            "error_x": {
             "color": "#2a3f5f"
            },
            "error_y": {
             "color": "#2a3f5f"
            },
            "marker": {
             "line": {
              "color": "#E5ECF6",
              "width": 0.5
             },
             "pattern": {
              "fillmode": "overlay",
              "size": 10,
              "solidity": 0.2
             }
            },
            "type": "bar"
           }
          ],
          "barpolar": [
           {
            "marker": {
             "line": {
              "color": "#E5ECF6",
              "width": 0.5
             },
             "pattern": {
              "fillmode": "overlay",
              "size": 10,
              "solidity": 0.2
             }
            },
            "type": "barpolar"
           }
          ],
          "carpet": [
           {
            "aaxis": {
             "endlinecolor": "#2a3f5f",
             "gridcolor": "white",
             "linecolor": "white",
             "minorgridcolor": "white",
             "startlinecolor": "#2a3f5f"
            },
            "baxis": {
             "endlinecolor": "#2a3f5f",
             "gridcolor": "white",
             "linecolor": "white",
             "minorgridcolor": "white",
             "startlinecolor": "#2a3f5f"
            },
            "type": "carpet"
           }
          ],
          "choropleth": [
           {
            "colorbar": {
             "outlinewidth": 0,
             "ticks": ""
            },
            "type": "choropleth"
           }
          ],
          "contour": [
           {
            "colorbar": {
             "outlinewidth": 0,
             "ticks": ""
            },
            "colorscale": [
             [
              0,
              "#0d0887"
             ],
             [
              0.1111111111111111,
              "#46039f"
             ],
             [
              0.2222222222222222,
              "#7201a8"
             ],
             [
              0.3333333333333333,
              "#9c179e"
             ],
             [
              0.4444444444444444,
              "#bd3786"
             ],
             [
              0.5555555555555556,
              "#d8576b"
             ],
             [
              0.6666666666666666,
              "#ed7953"
             ],
             [
              0.7777777777777778,
              "#fb9f3a"
             ],
             [
              0.8888888888888888,
              "#fdca26"
             ],
             [
              1,
              "#f0f921"
             ]
            ],
            "type": "contour"
           }
          ],
          "contourcarpet": [
           {
            "colorbar": {
             "outlinewidth": 0,
             "ticks": ""
            },
            "type": "contourcarpet"
           }
          ],
          "heatmap": [
           {
            "colorbar": {
             "outlinewidth": 0,
             "ticks": ""
            },
            "colorscale": [
             [
              0,
              "#0d0887"
             ],
             [
              0.1111111111111111,
              "#46039f"
             ],
             [
              0.2222222222222222,
              "#7201a8"
             ],
             [
              0.3333333333333333,
              "#9c179e"
             ],
             [
              0.4444444444444444,
              "#bd3786"
             ],
             [
              0.5555555555555556,
              "#d8576b"
             ],
             [
              0.6666666666666666,
              "#ed7953"
             ],
             [
              0.7777777777777778,
              "#fb9f3a"
             ],
             [
              0.8888888888888888,
              "#fdca26"
             ],
             [
              1,
              "#f0f921"
             ]
            ],
            "type": "heatmap"
           }
          ],
          "heatmapgl": [
           {
            "colorbar": {
             "outlinewidth": 0,
             "ticks": ""
            },
            "colorscale": [
             [
              0,
              "#0d0887"
             ],
             [
              0.1111111111111111,
              "#46039f"
             ],
             [
              0.2222222222222222,
              "#7201a8"
             ],
             [
              0.3333333333333333,
              "#9c179e"
             ],
             [
              0.4444444444444444,
              "#bd3786"
             ],
             [
              0.5555555555555556,
              "#d8576b"
             ],
             [
              0.6666666666666666,
              "#ed7953"
             ],
             [
              0.7777777777777778,
              "#fb9f3a"
             ],
             [
              0.8888888888888888,
              "#fdca26"
             ],
             [
              1,
              "#f0f921"
             ]
            ],
            "type": "heatmapgl"
           }
          ],
          "histogram": [
           {
            "marker": {
             "pattern": {
              "fillmode": "overlay",
              "size": 10,
              "solidity": 0.2
             }
            },
            "type": "histogram"
           }
          ],
          "histogram2d": [
           {
            "colorbar": {
             "outlinewidth": 0,
             "ticks": ""
            },
            "colorscale": [
             [
              0,
              "#0d0887"
             ],
             [
              0.1111111111111111,
              "#46039f"
             ],
             [
              0.2222222222222222,
              "#7201a8"
             ],
             [
              0.3333333333333333,
              "#9c179e"
             ],
             [
              0.4444444444444444,
              "#bd3786"
             ],
             [
              0.5555555555555556,
              "#d8576b"
             ],
             [
              0.6666666666666666,
              "#ed7953"
             ],
             [
              0.7777777777777778,
              "#fb9f3a"
             ],
             [
              0.8888888888888888,
              "#fdca26"
             ],
             [
              1,
              "#f0f921"
             ]
            ],
            "type": "histogram2d"
           }
          ],
          "histogram2dcontour": [
           {
            "colorbar": {
             "outlinewidth": 0,
             "ticks": ""
            },
            "colorscale": [
             [
              0,
              "#0d0887"
             ],
             [
              0.1111111111111111,
              "#46039f"
             ],
             [
              0.2222222222222222,
              "#7201a8"
             ],
             [
              0.3333333333333333,
              "#9c179e"
             ],
             [
              0.4444444444444444,
              "#bd3786"
             ],
             [
              0.5555555555555556,
              "#d8576b"
             ],
             [
              0.6666666666666666,
              "#ed7953"
             ],
             [
              0.7777777777777778,
              "#fb9f3a"
             ],
             [
              0.8888888888888888,
              "#fdca26"
             ],
             [
              1,
              "#f0f921"
             ]
            ],
            "type": "histogram2dcontour"
           }
          ],
          "mesh3d": [
           {
            "colorbar": {
             "outlinewidth": 0,
             "ticks": ""
            },
            "type": "mesh3d"
           }
          ],
          "parcoords": [
           {
            "line": {
             "colorbar": {
              "outlinewidth": 0,
              "ticks": ""
             }
            },
            "type": "parcoords"
           }
          ],
          "pie": [
           {
            "automargin": true,
            "type": "pie"
           }
          ],
          "scatter": [
           {
            "fillpattern": {
             "fillmode": "overlay",
             "size": 10,
             "solidity": 0.2
            },
            "type": "scatter"
           }
          ],
          "scatter3d": [
           {
            "line": {
             "colorbar": {
              "outlinewidth": 0,
              "ticks": ""
             }
            },
            "marker": {
             "colorbar": {
              "outlinewidth": 0,
              "ticks": ""
             }
            },
            "type": "scatter3d"
           }
          ],
          "scattercarpet": [
           {
            "marker": {
             "colorbar": {
              "outlinewidth": 0,
              "ticks": ""
             }
            },
            "type": "scattercarpet"
           }
          ],
          "scattergeo": [
           {
            "marker": {
             "colorbar": {
              "outlinewidth": 0,
              "ticks": ""
             }
            },
            "type": "scattergeo"
           }
          ],
          "scattergl": [
           {
            "marker": {
             "colorbar": {
              "outlinewidth": 0,
              "ticks": ""
             }
            },
            "type": "scattergl"
           }
          ],
          "scattermapbox": [
           {
            "marker": {
             "colorbar": {
              "outlinewidth": 0,
              "ticks": ""
             }
            },
            "type": "scattermapbox"
           }
          ],
          "scatterpolar": [
           {
            "marker": {
             "colorbar": {
              "outlinewidth": 0,
              "ticks": ""
             }
            },
            "type": "scatterpolar"
           }
          ],
          "scatterpolargl": [
           {
            "marker": {
             "colorbar": {
              "outlinewidth": 0,
              "ticks": ""
             }
            },
            "type": "scatterpolargl"
           }
          ],
          "scatterternary": [
           {
            "marker": {
             "colorbar": {
              "outlinewidth": 0,
              "ticks": ""
             }
            },
            "type": "scatterternary"
           }
          ],
          "surface": [
           {
            "colorbar": {
             "outlinewidth": 0,
             "ticks": ""
            },
            "colorscale": [
             [
              0,
              "#0d0887"
             ],
             [
              0.1111111111111111,
              "#46039f"
             ],
             [
              0.2222222222222222,
              "#7201a8"
             ],
             [
              0.3333333333333333,
              "#9c179e"
             ],
             [
              0.4444444444444444,
              "#bd3786"
             ],
             [
              0.5555555555555556,
              "#d8576b"
             ],
             [
              0.6666666666666666,
              "#ed7953"
             ],
             [
              0.7777777777777778,
              "#fb9f3a"
             ],
             [
              0.8888888888888888,
              "#fdca26"
             ],
             [
              1,
              "#f0f921"
             ]
            ],
            "type": "surface"
           }
          ],
          "table": [
           {
            "cells": {
             "fill": {
              "color": "#EBF0F8"
             },
             "line": {
              "color": "white"
             }
            },
            "header": {
             "fill": {
              "color": "#C8D4E3"
             },
             "line": {
              "color": "white"
             }
            },
            "type": "table"
           }
          ]
         },
         "layout": {
          "annotationdefaults": {
           "arrowcolor": "#2a3f5f",
           "arrowhead": 0,
           "arrowwidth": 1
          },
          "autotypenumbers": "strict",
          "coloraxis": {
           "colorbar": {
            "outlinewidth": 0,
            "ticks": ""
           }
          },
          "colorscale": {
           "diverging": [
            [
             0,
             "#8e0152"
            ],
            [
             0.1,
             "#c51b7d"
            ],
            [
             0.2,
             "#de77ae"
            ],
            [
             0.3,
             "#f1b6da"
            ],
            [
             0.4,
             "#fde0ef"
            ],
            [
             0.5,
             "#f7f7f7"
            ],
            [
             0.6,
             "#e6f5d0"
            ],
            [
             0.7,
             "#b8e186"
            ],
            [
             0.8,
             "#7fbc41"
            ],
            [
             0.9,
             "#4d9221"
            ],
            [
             1,
             "#276419"
            ]
           ],
           "sequential": [
            [
             0,
             "#0d0887"
            ],
            [
             0.1111111111111111,
             "#46039f"
            ],
            [
             0.2222222222222222,
             "#7201a8"
            ],
            [
             0.3333333333333333,
             "#9c179e"
            ],
            [
             0.4444444444444444,
             "#bd3786"
            ],
            [
             0.5555555555555556,
             "#d8576b"
            ],
            [
             0.6666666666666666,
             "#ed7953"
            ],
            [
             0.7777777777777778,
             "#fb9f3a"
            ],
            [
             0.8888888888888888,
             "#fdca26"
            ],
            [
             1,
             "#f0f921"
            ]
           ],
           "sequentialminus": [
            [
             0,
             "#0d0887"
            ],
            [
             0.1111111111111111,
             "#46039f"
            ],
            [
             0.2222222222222222,
             "#7201a8"
            ],
            [
             0.3333333333333333,
             "#9c179e"
            ],
            [
             0.4444444444444444,
             "#bd3786"
            ],
            [
             0.5555555555555556,
             "#d8576b"
            ],
            [
             0.6666666666666666,
             "#ed7953"
            ],
            [
             0.7777777777777778,
             "#fb9f3a"
            ],
            [
             0.8888888888888888,
             "#fdca26"
            ],
            [
             1,
             "#f0f921"
            ]
           ]
          },
          "colorway": [
           "#636efa",
           "#EF553B",
           "#00cc96",
           "#ab63fa",
           "#FFA15A",
           "#19d3f3",
           "#FF6692",
           "#B6E880",
           "#FF97FF",
           "#FECB52"
          ],
          "font": {
           "color": "#2a3f5f"
          },
          "geo": {
           "bgcolor": "white",
           "lakecolor": "white",
           "landcolor": "#E5ECF6",
           "showlakes": true,
           "showland": true,
           "subunitcolor": "white"
          },
          "hoverlabel": {
           "align": "left"
          },
          "hovermode": "closest",
          "mapbox": {
           "style": "light"
          },
          "paper_bgcolor": "white",
          "plot_bgcolor": "#E5ECF6",
          "polar": {
           "angularaxis": {
            "gridcolor": "white",
            "linecolor": "white",
            "ticks": ""
           },
           "bgcolor": "#E5ECF6",
           "radialaxis": {
            "gridcolor": "white",
            "linecolor": "white",
            "ticks": ""
           }
          },
          "scene": {
           "xaxis": {
            "backgroundcolor": "#E5ECF6",
            "gridcolor": "white",
            "gridwidth": 2,
            "linecolor": "white",
            "showbackground": true,
            "ticks": "",
            "zerolinecolor": "white"
           },
           "yaxis": {
            "backgroundcolor": "#E5ECF6",
            "gridcolor": "white",
            "gridwidth": 2,
            "linecolor": "white",
            "showbackground": true,
            "ticks": "",
            "zerolinecolor": "white"
           },
           "zaxis": {
            "backgroundcolor": "#E5ECF6",
            "gridcolor": "white",
            "gridwidth": 2,
            "linecolor": "white",
            "showbackground": true,
            "ticks": "",
            "zerolinecolor": "white"
           }
          },
          "shapedefaults": {
           "line": {
            "color": "#2a3f5f"
           }
          },
          "ternary": {
           "aaxis": {
            "gridcolor": "white",
            "linecolor": "white",
            "ticks": ""
           },
           "baxis": {
            "gridcolor": "white",
            "linecolor": "white",
            "ticks": ""
           },
           "bgcolor": "#E5ECF6",
           "caxis": {
            "gridcolor": "white",
            "linecolor": "white",
            "ticks": ""
           }
          },
          "title": {
           "x": 0.05
          },
          "xaxis": {
           "automargin": true,
           "gridcolor": "white",
           "linecolor": "white",
           "ticks": "",
           "title": {
            "standoff": 15
           },
           "zerolinecolor": "white",
           "zerolinewidth": 2
          },
          "yaxis": {
           "automargin": true,
           "gridcolor": "white",
           "linecolor": "white",
           "ticks": "",
           "title": {
            "standoff": 15
           },
           "zerolinecolor": "white",
           "zerolinewidth": 2
          }
         }
        },
        "title": {
         "text": "Hyperparameter Importances"
        },
        "xaxis": {
         "title": {
          "text": "Hyperparameter Importance"
         }
        },
        "yaxis": {
         "title": {
          "text": "Hyperparameter"
         }
        }
       }
      }
     },
     "metadata": {},
     "output_type": "display_data"
    }
   ],
   "source": [
    "file_study_opt = \"./results_1D/pqk_qkrr/cache_optuna_studies_evaluate_grid/optuna_study_evaluate_grid_QKRR_PQK_YZ_CX_EncodingCircuit_num_qubits4_num_layers6_1d_h_adsorption_pec_alpha_ontop1.pkl\"\n",
    "study_opt = joblib.load(file_study_opt)\n",
    "plot_param_importances(study_opt)"
   ]
  },
  {
   "cell_type": "markdown",
   "metadata": {},
   "source": [
    "#### Results: 2D H-adsorption PEC (H parallel to boron trigonal)\n",
    "\n",
    "Here, we consider the dataset corresponding to the 2D-PES-plot in Fig. 5.\n",
    "\n",
    "This last section indicates how one can use QKMOptuna to generate large quantum kernel studies over different datasets and different encoding circuits and how one can analyze corresponing results. Here, we want to investigate correlations between all classical and quantum hyperparameters. For the sake of simplicity let us restrict the correlation w.r.t model performance to r2 test score and only consider results from PQK simulations with QKRR"
   ]
  },
  {
   "cell_type": "markdown",
   "metadata": {},
   "source": [
    "##### Imports and data loading"
   ]
  },
  {
   "cell_type": "code",
   "execution_count": 3,
   "metadata": {},
   "outputs": [],
   "source": [
    "import numpy as np\n",
    "import pandas as pd\n",
    "import seaborn as sb\n",
    "import matplotlib.pyplot as plt\n",
    "\n",
    "from functools import partial \n",
    "from sklearn.model_selection import train_test_split\n",
    "from optuna.samplers import TPESampler\n",
    "\n",
    "from squlearn.encoding_circuit import YZ_CX_EncodingCircuit, HighDimEncodingCircuit, HubregtsenEncodingCircuit, ChebyshevPQC, ParamZFeatureMap\n",
    "\n",
    "from pipeline.tools import get_2D_pes_from_xls"
   ]
  },
  {
   "cell_type": "code",
   "execution_count": 6,
   "metadata": {},
   "outputs": [],
   "source": [
    "file_2D_trigonal = \"./data/potential_surface.xlsx\"\n",
    "data_2D = get_2D_pes_from_xls(file_2D_trigonal)\n",
    "\n",
    "x_2D = data_2D[3][:, 0:2]\n",
    "E_2D = data_2D[3][:, 2]\n",
    "\n",
    "R1_train, R1_test, E1_train, E1_test = train_test_split(\n",
    "    x_2D,\n",
    "    E_2D,\n",
    "    test_size=0.2,\n",
    "    random_state=43\n",
    ")"
   ]
  },
  {
   "cell_type": "markdown",
   "metadata": {},
   "source": [
    "##### How to set up the method\n",
    "\n",
    "The code snippet below is just for demonstration purposes how to set up the method."
   ]
  },
  {
   "cell_type": "code",
   "execution_count": null,
   "metadata": {},
   "outputs": [],
   "source": [
    "qkm_inst = QKMOptuna(\n",
    "    xtrain=R1_train,\n",
    "    xtest=R1_test,\n",
    "    ytrain=E1_train,\n",
    "    ytest=E1_test,\n",
    "    scaler_method=MinMaxScaler(feature_range=(-np.pi/2., np.pi/2.)), # use predfined scaler for features and do not optimize it\n",
    "    optimize_scaler=False,\n",
    "    label_scaler=MinMaxScaler(), # note, we rescale labels\n",
    "    quantum_kernel=\"PQK\",\n",
    "    quantum_kernel_method=\"QKRR\",\n",
    "    executor=Executor(\"pennylane\"),\n",
    "    parameter_seed=0\n",
    ")\n",
    "\n",
    "encoding_circuits = [YZ_CX_EncodingCircuit, HighDimEncodingCircuit, HubregtsenEncodingCircuit, ChebyshevPQC, partial(ParamZFeatureMap, entangling=True)]\n",
    "# Define the grid search ranges\n",
    "layer_list = [1,2,3,4,5,6,7,8]\n",
    "qubit_list = [2,4,6,8] # since dataset has two features we only consider even qubit numbers\n",
    "qkm_inst.evaluate_grid(\n",
    "    encoding_circuits=encoding_circuits,\n",
    "    measurement=\"XYZ\",\n",
    "    outer_kernel=\"gaussian\",\n",
    "    qubits_list=qubit_list,\n",
    "    layers_list=layer_list,\n",
    "    optuna_sampler=TPESampler(seed=0),\n",
    "    n_trials=50,\n",
    "    outdir=\"./results_2D/pqk_qkrr/\",\n",
    "    file_identifier=\"2d_h_adsorption_pec_trigonal\"\n",
    ")"
   ]
  },
  {
   "cell_type": "markdown",
   "metadata": {},
   "source": [
    "##### Analysis\n",
    "\n",
    "The following dataframe shows the format of this final simulation results and how to further process and analyze them."
   ]
  },
  {
   "cell_type": "code",
   "execution_count": 5,
   "metadata": {},
   "outputs": [
    {
     "data": {
      "text/html": [
       "<div>\n",
       "<style scoped>\n",
       "    .dataframe tbody tr th:only-of-type {\n",
       "        vertical-align: middle;\n",
       "    }\n",
       "\n",
       "    .dataframe tbody tr th {\n",
       "        vertical-align: top;\n",
       "    }\n",
       "\n",
       "    .dataframe thead th {\n",
       "        text-align: right;\n",
       "    }\n",
       "</style>\n",
       "<table border=\"1\" class=\"dataframe\">\n",
       "  <thead>\n",
       "    <tr style=\"text-align: right;\">\n",
       "      <th></th>\n",
       "      <th>Unnamed: 0</th>\n",
       "      <th>encoding_circuit</th>\n",
       "      <th>best_trial_mat</th>\n",
       "      <th>best_objective_value_mat</th>\n",
       "      <th>feature_range_mat</th>\n",
       "      <th>mse_train_mat</th>\n",
       "      <th>rmse_train_mat</th>\n",
       "      <th>mae_train_mat</th>\n",
       "      <th>r2_train_mat</th>\n",
       "      <th>mse_test_mat</th>\n",
       "      <th>rmse_test_mat</th>\n",
       "      <th>mae_test_mat</th>\n",
       "      <th>r2_test_mat</th>\n",
       "    </tr>\n",
       "  </thead>\n",
       "  <tbody>\n",
       "    <tr>\n",
       "      <th>0</th>\n",
       "      <td>0</td>\n",
       "      <td>YZ_CX_EncodingCircuit</td>\n",
       "      <td>[[FrozenTrial(number=41, state=TrialState.COMP...</td>\n",
       "      <td>[[0.93057987 0.97516193 0.99729752 0.74317513 ...</td>\n",
       "      <td>[[(-1.5707963267948966, 1.5707963267948966)\\n ...</td>\n",
       "      <td>[[1.13469321e-03 3.77585721e-04 3.89293667e-08...</td>\n",
       "      <td>[[3.36852076e-02 1.94315651e-02 1.97305263e-04...</td>\n",
       "      <td>[[1.61201887e-02 6.23364876e-03 1.44226574e-04...</td>\n",
       "      <td>[[0.96770257 0.98925256 0.99999889 0.8856822  ...</td>\n",
       "      <td>[[1.86521090e-03 1.01474794e-03 1.21426636e-05...</td>\n",
       "      <td>[[4.31880875e-02 3.18551086e-02 3.48463249e-03...</td>\n",
       "      <td>[[2.24546055e-02 1.16265749e-02 1.35942370e-03...</td>\n",
       "      <td>[[0.95024733 0.9729326  0.99967611 0.77656365 ...</td>\n",
       "    </tr>\n",
       "    <tr>\n",
       "      <th>1</th>\n",
       "      <td>1</td>\n",
       "      <td>HighDimEncodingCircuit</td>\n",
       "      <td>[[FrozenTrial(number=47, state=TrialState.COMP...</td>\n",
       "      <td>[[0.92226407 0.93496965 0.93787578 0.93371879 ...</td>\n",
       "      <td>[[(-1.5707963267948966, 1.5707963267948966)\\n ...</td>\n",
       "      <td>[[0.00110127 0.00122014 0.00106635 0.00104882 ...</td>\n",
       "      <td>[[0.03318532 0.03493049 0.03265497 0.03238552 ...</td>\n",
       "      <td>[[0.01226345 0.01298971 0.01107984 0.01105271 ...</td>\n",
       "      <td>[[0.96865403 0.96527048 0.96964795 0.97014678 ...</td>\n",
       "      <td>[[0.00285459 0.00247792 0.0023266  0.00242907 ...</td>\n",
       "      <td>[[0.05342834 0.04977871 0.04823486 0.04928555 ...</td>\n",
       "      <td>[[0.02978946 0.0239603  0.02438517 0.02608317 ...</td>\n",
       "      <td>[[0.9238567  0.93390392 0.93794018 0.93520706 ...</td>\n",
       "    </tr>\n",
       "    <tr>\n",
       "      <th>2</th>\n",
       "      <td>2</td>\n",
       "      <td>HubregtsenEncodingCircuit</td>\n",
       "      <td>[[FrozenTrial(number=38, state=TrialState.COMP...</td>\n",
       "      <td>[[0.99999825 0.88706954 0.82321356 0.64731945 ...</td>\n",
       "      <td>[[(-1.5707963267948966, 1.5707963267948966)\\n ...</td>\n",
       "      <td>[[2.87948093e-10 2.12928530e-03 3.88891414e-03...</td>\n",
       "      <td>[[1.69690334e-05 4.61441795e-02 6.23611589e-02...</td>\n",
       "      <td>[[1.31205565e-05 1.76687992e-02 3.53299610e-02...</td>\n",
       "      <td>[[0.99999999 0.93939292 0.88930758 0.73302975 ...</td>\n",
       "      <td>[[1.43982604e-08 5.49464480e-03 3.86787806e-03...</td>\n",
       "      <td>[[1.19992752e-04 7.41258713e-02 6.21922669e-02...</td>\n",
       "      <td>[[3.90695253e-05 2.35973205e-02 3.90182893e-02...</td>\n",
       "      <td>[[0.99999962 0.85343575 0.89682816 0.69357551 ...</td>\n",
       "    </tr>\n",
       "    <tr>\n",
       "      <th>3</th>\n",
       "      <td>3</td>\n",
       "      <td>ChebyshevPQC</td>\n",
       "      <td>[[FrozenTrial(number=44, state=TrialState.COMP...</td>\n",
       "      <td>[[0.80833342 0.85492075 0.90820873 0.69559686 ...</td>\n",
       "      <td>[[(-1, 1) (-1, 1) (-1, 1) (-1, 1) (-1, 1) (-1,...</td>\n",
       "      <td>[[4.42256012e-03 3.41021307e-03 7.29622545e-04...</td>\n",
       "      <td>[[6.65023317e-02 5.83970296e-02 2.70115261e-02...</td>\n",
       "      <td>[[5.57173757e-02 4.92345572e-02 2.23730201e-02...</td>\n",
       "      <td>[[0.87411811 0.90293313 0.97923233 0.73327195 ...</td>\n",
       "      <td>[[4.48418532e-03 5.30888491e-03 8.41857754e-03...</td>\n",
       "      <td>[[0.06696406 0.0728621  0.09175281 0.10444241 ...</td>\n",
       "      <td>[[0.05503828 0.0503228  0.03157904 0.08177903 ...</td>\n",
       "      <td>[[0.88038877 0.85839071 0.77544272 0.70903406 ...</td>\n",
       "    </tr>\n",
       "    <tr>\n",
       "      <th>4</th>\n",
       "      <td>4</td>\n",
       "      <td>ParamZFeatureMap, entangling=True</td>\n",
       "      <td>[[FrozenTrial(number=12, state=TrialState.COMP...</td>\n",
       "      <td>[[0.99986016 0.99985448 0.99969937 0.99977055 ...</td>\n",
       "      <td>[[(-1, 1) (-1, 1) (-1, 1) (-1, 1) (-1, 1) (-1,...</td>\n",
       "      <td>[[2.99044798e-08 1.74105018e-07 2.02517787e-07...</td>\n",
       "      <td>[[1.72929118e-04 4.17258933e-04 4.50019763e-04...</td>\n",
       "      <td>[[1.36916736e-04 2.88539010e-04 3.28833714e-04...</td>\n",
       "      <td>[[0.99999915 0.99999504 0.99999424 0.99999972 ...</td>\n",
       "      <td>[[7.60537612e-07 6.47190381e-07 2.53627550e-06...</td>\n",
       "      <td>[[0.00087209 0.00080448 0.00159257 0.00046749 ...</td>\n",
       "      <td>[[4.84901649e-04 4.97119338e-04 8.81740725e-04...</td>\n",
       "      <td>[[0.99997971 0.99998274 0.99993235 0.99999417 ...</td>\n",
       "    </tr>\n",
       "  </tbody>\n",
       "</table>\n",
       "</div>"
      ],
      "text/plain": [
       "   Unnamed: 0                   encoding_circuit  \\\n",
       "0           0              YZ_CX_EncodingCircuit   \n",
       "1           1             HighDimEncodingCircuit   \n",
       "2           2          HubregtsenEncodingCircuit   \n",
       "3           3                       ChebyshevPQC   \n",
       "4           4  ParamZFeatureMap, entangling=True   \n",
       "\n",
       "                                      best_trial_mat  \\\n",
       "0  [[FrozenTrial(number=41, state=TrialState.COMP...   \n",
       "1  [[FrozenTrial(number=47, state=TrialState.COMP...   \n",
       "2  [[FrozenTrial(number=38, state=TrialState.COMP...   \n",
       "3  [[FrozenTrial(number=44, state=TrialState.COMP...   \n",
       "4  [[FrozenTrial(number=12, state=TrialState.COMP...   \n",
       "\n",
       "                            best_objective_value_mat  \\\n",
       "0  [[0.93057987 0.97516193 0.99729752 0.74317513 ...   \n",
       "1  [[0.92226407 0.93496965 0.93787578 0.93371879 ...   \n",
       "2  [[0.99999825 0.88706954 0.82321356 0.64731945 ...   \n",
       "3  [[0.80833342 0.85492075 0.90820873 0.69559686 ...   \n",
       "4  [[0.99986016 0.99985448 0.99969937 0.99977055 ...   \n",
       "\n",
       "                                   feature_range_mat  \\\n",
       "0  [[(-1.5707963267948966, 1.5707963267948966)\\n ...   \n",
       "1  [[(-1.5707963267948966, 1.5707963267948966)\\n ...   \n",
       "2  [[(-1.5707963267948966, 1.5707963267948966)\\n ...   \n",
       "3  [[(-1, 1) (-1, 1) (-1, 1) (-1, 1) (-1, 1) (-1,...   \n",
       "4  [[(-1, 1) (-1, 1) (-1, 1) (-1, 1) (-1, 1) (-1,...   \n",
       "\n",
       "                                       mse_train_mat  \\\n",
       "0  [[1.13469321e-03 3.77585721e-04 3.89293667e-08...   \n",
       "1  [[0.00110127 0.00122014 0.00106635 0.00104882 ...   \n",
       "2  [[2.87948093e-10 2.12928530e-03 3.88891414e-03...   \n",
       "3  [[4.42256012e-03 3.41021307e-03 7.29622545e-04...   \n",
       "4  [[2.99044798e-08 1.74105018e-07 2.02517787e-07...   \n",
       "\n",
       "                                      rmse_train_mat  \\\n",
       "0  [[3.36852076e-02 1.94315651e-02 1.97305263e-04...   \n",
       "1  [[0.03318532 0.03493049 0.03265497 0.03238552 ...   \n",
       "2  [[1.69690334e-05 4.61441795e-02 6.23611589e-02...   \n",
       "3  [[6.65023317e-02 5.83970296e-02 2.70115261e-02...   \n",
       "4  [[1.72929118e-04 4.17258933e-04 4.50019763e-04...   \n",
       "\n",
       "                                       mae_train_mat  \\\n",
       "0  [[1.61201887e-02 6.23364876e-03 1.44226574e-04...   \n",
       "1  [[0.01226345 0.01298971 0.01107984 0.01105271 ...   \n",
       "2  [[1.31205565e-05 1.76687992e-02 3.53299610e-02...   \n",
       "3  [[5.57173757e-02 4.92345572e-02 2.23730201e-02...   \n",
       "4  [[1.36916736e-04 2.88539010e-04 3.28833714e-04...   \n",
       "\n",
       "                                        r2_train_mat  \\\n",
       "0  [[0.96770257 0.98925256 0.99999889 0.8856822  ...   \n",
       "1  [[0.96865403 0.96527048 0.96964795 0.97014678 ...   \n",
       "2  [[0.99999999 0.93939292 0.88930758 0.73302975 ...   \n",
       "3  [[0.87411811 0.90293313 0.97923233 0.73327195 ...   \n",
       "4  [[0.99999915 0.99999504 0.99999424 0.99999972 ...   \n",
       "\n",
       "                                        mse_test_mat  \\\n",
       "0  [[1.86521090e-03 1.01474794e-03 1.21426636e-05...   \n",
       "1  [[0.00285459 0.00247792 0.0023266  0.00242907 ...   \n",
       "2  [[1.43982604e-08 5.49464480e-03 3.86787806e-03...   \n",
       "3  [[4.48418532e-03 5.30888491e-03 8.41857754e-03...   \n",
       "4  [[7.60537612e-07 6.47190381e-07 2.53627550e-06...   \n",
       "\n",
       "                                       rmse_test_mat  \\\n",
       "0  [[4.31880875e-02 3.18551086e-02 3.48463249e-03...   \n",
       "1  [[0.05342834 0.04977871 0.04823486 0.04928555 ...   \n",
       "2  [[1.19992752e-04 7.41258713e-02 6.21922669e-02...   \n",
       "3  [[0.06696406 0.0728621  0.09175281 0.10444241 ...   \n",
       "4  [[0.00087209 0.00080448 0.00159257 0.00046749 ...   \n",
       "\n",
       "                                        mae_test_mat  \\\n",
       "0  [[2.24546055e-02 1.16265749e-02 1.35942370e-03...   \n",
       "1  [[0.02978946 0.0239603  0.02438517 0.02608317 ...   \n",
       "2  [[3.90695253e-05 2.35973205e-02 3.90182893e-02...   \n",
       "3  [[0.05503828 0.0503228  0.03157904 0.08177903 ...   \n",
       "4  [[4.84901649e-04 4.97119338e-04 8.81740725e-04...   \n",
       "\n",
       "                                         r2_test_mat  \n",
       "0  [[0.95024733 0.9729326  0.99967611 0.77656365 ...  \n",
       "1  [[0.9238567  0.93390392 0.93794018 0.93520706 ...  \n",
       "2  [[0.99999962 0.85343575 0.89682816 0.69357551 ...  \n",
       "3  [[0.88038877 0.85839071 0.77544272 0.70903406 ...  \n",
       "4  [[0.99997971 0.99998274 0.99993235 0.99999417 ...  "
      ]
     },
     "execution_count": 5,
     "metadata": {},
     "output_type": "execute_result"
    }
   ],
   "source": [
    "df_2D_pqk = pd.read_csv(\"results_2D/pqk_qkrr/results_evaluate_grid/results_evaluate_grid_study_QKRR_PQK_2d_h_adsorption_pec_trigonal.csv\")\n",
    "df_2D_pqk"
   ]
  },
  {
   "cell_type": "markdown",
   "metadata": {},
   "source": [
    "Extract r2_test_mat from the above dataframe for two encoding circuits and visualize them with a heatmap."
   ]
  },
  {
   "cell_type": "code",
   "execution_count": 13,
   "metadata": {},
   "outputs": [
    {
     "data": {
      "image/png": "[encoded data removed]",
      "text/plain": [
       "<Figure size 1500x500 with 4 Axes>"
      ]
     },
     "metadata": {},
     "output_type": "display_data"
    }
   ],
   "source": [
    "from pipeline.tools import pandas_matrix_to_numpy_array\n",
    "qubit_list = [2,4,6,8]\n",
    "layer_list = list(np.arange(1,9))\n",
    "\n",
    "mat_r2_2D_pqk_yz_cx = pandas_matrix_to_numpy_array(df_2D_pqk, 0, \"r2_test_mat\", qubit_list, layer_list)\n",
    "mat_r2_2D_pqk_cheb = pandas_matrix_to_numpy_array(df_2D_pqk, 3, \"r2_test_mat\", qubit_list, layer_list)\n",
    "\n",
    "\n",
    "fig, axes = plt.subplots(nrows=1, ncols=2, figsize=(15,5))\n",
    "\n",
    "axes[0].set_title(\"R2(test) for PQK, YZ_CX_EncodingCircuit\")\n",
    "sb.heatmap(mat_r2_2D_pqk_yz_cx, annot=True, xticklabels=layer_list, yticklabels=qubit_list, cmap='viridis', fmt='.3g', ax=axes[0])\n",
    "axes[1].set_title(\"R2(test) for PQK, ChebyshevPQC\")\n",
    "sb.heatmap(mat_r2_2D_pqk_cheb, annot=True, xticklabels=layer_list, yticklabels=qubit_list, cmap='viridis', fmt='.3g', ax=axes[1])\n",
    "\n",
    "plt.xlabel(\"num_layers\")\n",
    "plt.ylabel(\"num_qubits\")\n",
    "plt.show()"
   ]
  },
  {
   "cell_type": "markdown",
   "metadata": {},
   "source": [
    "This dataset appears more complex than the 1D one. Thus, it might be suitable for a more systematic analyis of quantum kernel methods."
   ]
  },
  {
   "cell_type": "markdown",
   "metadata": {},
   "source": [
    "##### Investigate correlations between classical & quantum hyperparameters and the R2-test-score\n",
    "\n",
    "To this end, we compute correlation matrices for each of the encoding circuits given in the above dataframe and subsequently calculate the corresponding \"mean correlation matrix\". Note that for a proper investigation we should also consider the variance for each value."
   ]
  },
  {
   "cell_type": "code",
   "execution_count": 15,
   "metadata": {},
   "outputs": [],
   "source": [
    "from pipeline.tools import get_stacked_correlation_matrices\n",
    "\n",
    "qubit_list = [2,4,6,8]\n",
    "layer_list = list(np.arange(1,9))\n",
    "\n",
    "correlation_matrices = get_stacked_correlation_matrices(df_2D_pqk, qubit_list, layer_list, correlation_method=\"pearson\", target_object=\"r2_test_mat\")\n",
    "df_corr_mean = pd.DataFrame(np.mean(correlation_matrices, axis=0))"
   ]
  },
  {
   "cell_type": "code",
   "execution_count": 16,
   "metadata": {},
   "outputs": [
    {
     "data": {
      "text/html": [
       "<div>\n",
       "<style scoped>\n",
       "    .dataframe tbody tr th:only-of-type {\n",
       "        vertical-align: middle;\n",
       "    }\n",
       "\n",
       "    .dataframe tbody tr th {\n",
       "        vertical-align: top;\n",
       "    }\n",
       "\n",
       "    .dataframe thead th {\n",
       "        text-align: right;\n",
       "    }\n",
       "</style>\n",
       "<table border=\"1\" class=\"dataframe\">\n",
       "  <thead>\n",
       "    <tr style=\"text-align: right;\">\n",
       "      <th></th>\n",
       "      <th>R2</th>\n",
       "      <th>num_qubits</th>\n",
       "      <th>num_layers</th>\n",
       "      <th>alpha</th>\n",
       "      <th>gamma</th>\n",
       "    </tr>\n",
       "  </thead>\n",
       "  <tbody>\n",
       "    <tr>\n",
       "      <th>R2</th>\n",
       "      <td>1.000000</td>\n",
       "      <td>4.239380e-01</td>\n",
       "      <td>-5.906019e-02</td>\n",
       "      <td>-0.135760</td>\n",
       "      <td>0.183865</td>\n",
       "    </tr>\n",
       "    <tr>\n",
       "      <th>num_qubits</th>\n",
       "      <td>0.423938</td>\n",
       "      <td>1.000000e+00</td>\n",
       "      <td>2.237999e-17</td>\n",
       "      <td>-0.121728</td>\n",
       "      <td>-0.380380</td>\n",
       "    </tr>\n",
       "    <tr>\n",
       "      <th>num_layers</th>\n",
       "      <td>-0.059060</td>\n",
       "      <td>2.237999e-17</td>\n",
       "      <td>1.000000e+00</td>\n",
       "      <td>0.119921</td>\n",
       "      <td>0.012208</td>\n",
       "    </tr>\n",
       "    <tr>\n",
       "      <th>alpha</th>\n",
       "      <td>-0.135760</td>\n",
       "      <td>-1.217277e-01</td>\n",
       "      <td>1.199206e-01</td>\n",
       "      <td>1.000000</td>\n",
       "      <td>0.245516</td>\n",
       "    </tr>\n",
       "    <tr>\n",
       "      <th>gamma</th>\n",
       "      <td>0.183865</td>\n",
       "      <td>-3.803803e-01</td>\n",
       "      <td>1.220829e-02</td>\n",
       "      <td>0.245516</td>\n",
       "      <td>1.000000</td>\n",
       "    </tr>\n",
       "  </tbody>\n",
       "</table>\n",
       "</div>"
      ],
      "text/plain": [
       "                  R2    num_qubits    num_layers     alpha     gamma\n",
       "R2          1.000000  4.239380e-01 -5.906019e-02 -0.135760  0.183865\n",
       "num_qubits  0.423938  1.000000e+00  2.237999e-17 -0.121728 -0.380380\n",
       "num_layers -0.059060  2.237999e-17  1.000000e+00  0.119921  0.012208\n",
       "alpha      -0.135760 -1.217277e-01  1.199206e-01  1.000000  0.245516\n",
       "gamma       0.183865 -3.803803e-01  1.220829e-02  0.245516  1.000000"
      ]
     },
     "execution_count": 16,
     "metadata": {},
     "output_type": "execute_result"
    }
   ],
   "source": [
    "column_names = {0: \"R2\", 1: \"num_qubits\", 2: \"num_layers\", 3: \"alpha\", 4: \"gamma\"}\n",
    "df_new = df_corr_mean.rename(columns=column_names, index=column_names)\n",
    "df_new"
   ]
  },
  {
   "cell_type": "markdown",
   "metadata": {},
   "source": [
    "Plot the mean correlation matrix"
   ]
  },
  {
   "cell_type": "code",
   "execution_count": 17,
   "metadata": {},
   "outputs": [
    {
     "data": {
      "text/plain": [
       "<Axes: >"
      ]
     },
     "execution_count": 17,
     "metadata": {},
     "output_type": "execute_result"
    },
    {
     "data": {
      "image/png": "[encoded data removed]",
      "text/plain": [
       "<Figure size 640x480 with 2 Axes>"
      ]
     },
     "metadata": {},
     "output_type": "display_data"
    }
   ],
   "source": [
    "sb.heatmap(df_new, cmap=\"Blues\", annot=True)"
   ]
  },
  {
   "cell_type": "markdown",
   "metadata": {},
   "source": [
    "A more sophisticated way to study correlations may be based on using Fisher's z-transformation to preserve negative correlations. However, this is beyond the scope of this demonstrator."
   ]
  },
  {
   "cell_type": "markdown",
   "metadata": {},
   "source": [
    "By generating a larger experimental database with corresponding QKMOptuna.evaluate_grid() simulation results we aim at answering the question (numerically) to which extent all the quantum kernel methods hyperparameters are correlated w.r.t given performance metrics."
   ]
  },
  {
   "cell_type": "markdown",
   "metadata": {},
   "source": [
    "### Comments\n",
    "\n",
    "At this, let us remark that QKMOptuna also alows for performing KTA within the pipeline using any or only the optimal cached result.\n",
    "\n",
    "Moreover we note, that in this demonstrator we did not make full use of the QKMOptuna pipeline's full functionality. As such, the following is missing:\n",
    "\n",
    "- Investigation and optimization of preprocessing routines (MinMaxScaler(), MaxAbsScaler(), StandardScaler(), RobustScaler(), PowerTransformer() and Bandwidth-Scaling implemented)\n",
    "- Systematic comparison of QSVR vs. QKRR\n",
    "- Application to classification problems (QSVC implemented)\n",
    "- Use of more encoding circuits to enlarge data foundation and improve statistics\n",
    "- shot-based simulations"
   ]
  },
  {
   "cell_type": "markdown",
   "metadata": {},
   "source": [
    "## Outlook\n",
    "\n",
    "We will use our sQUlearn quantum kernel engine as well as the QKMOptuna hyperparameter optimization pipeline to perform an extensive hyperparameter and benchmark study to address the following open questions (for sufficiently complex regression/classification datasets) for quantum kernel methods:\n",
    "\n",
    "- Correlations between classical (e.g., regularization, outer_kernel) and quantum (num_qubits, num_layers, bandwidth-tuning, $k$-RDM, measurement operator) hyperparameters and model performance\n",
    "- Connection to expressibility and entangling capability of corresponding data encoding circuits\n",
    "- Connection to dataset complexity\n",
    "- Effect of optimizing trainable parameters via KTA\n",
    "- shot-based simulations\n",
    "\n",
    "=> *Corresponding publication in preparation*"
   ]
  },
  {
   "cell_type": "markdown",
   "metadata": {},
   "source": [
    "## *References*\n",
    "\n",
    "[1] [M. Schuld, \"Supervised quantum machine learning models are kernel methods.\" arXiv:2101.11020v2 (2021)](https://arxiv.org/abs/2101.11020v2)\n",
    "\n",
    "[2] [S. Thanasilp, S. Wang, M. Cerezo, Z. Holmes, \"Exponential concentration in quantum kernel methods.\" arXiv:2208.11060v2 (2024)](https://arxiv.org/abs/2208.11060)\n",
    "\n",
    "[3] [H.-Y. Huang, M. Broughton, M. Mohseni, R. Babbush, S. Boixo, H. Neven., J. R. McClean, \"Power of data in quantum machine learning.\" Nat. Commun. 12, 2631 (2021)](https://www.nature.com/articles/s41467-021-22539-9)\n",
    "\n",
    "[4] [D. A. Kreplin, M. Willmann, J. Schnabel, F. Rapp, M. Hagelüken, M. Roth, \"sQUlearn -- A Python Library for Quantum Machine Learning.\" arXiv:2311.08990v2 (2024)](https://arxiv.org/abs/2311.08990)\n",
    "\n",
    "[5] [J. Bowles, S. Ahmed, M. Schuld, \"Better than classical? The subtle art of benchmarking quantum machine learning models\". arXiv:2403.07059v2 (2024)](https://arxiv.org/abs/2403.07059)"
   ]
  }
 ],
 "metadata": {
  "kernelspec": {
   "display_name": ".venv",
   "language": "python",
   "name": "python3"
  },
  "language_info": {
   "codemirror_mode": {
    "name": "ipython",
    "version": 3
   },
   "file_extension": ".py",
   "mimetype": "text/x-python",
   "name": "python",
   "nbconvert_exporter": "python",
   "pygments_lexer": "ipython3",
   "version": "3.10.11"
  }
 },
 "nbformat": 4,
 "nbformat_minor": 2
}
